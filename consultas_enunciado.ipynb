{
 "cells": [
  {
   "cell_type": "code",
   "execution_count": 29,
   "id": "8ce87e39",
   "metadata": {},
   "outputs": [],
   "source": [
    "import pandas as pd\n",
    "import seaborn as sns\n",
    "import matplotlib.pyplot as plt"
   ]
  },
  {
   "cell_type": "code",
   "execution_count": 30,
   "id": "bcddc9b6",
   "metadata": {},
   "outputs": [],
   "source": [
    "orders = pd.read_csv('data/orders.csv')\n",
    "customers = pd.read_csv('data/customers.csv')\n",
    "products = pd.read_csv('data/products.csv')\n",
    "categories = pd.read_csv('data/categories.csv')\n",
    "order_items = pd.read_csv('data/order_items.csv')\n",
    "reviews = pd.read_csv('data/reviews.csv')\n",
    "inventory_logs = pd.read_csv('data/inventory_logs.csv')\n",
    "\n",
    "def normalize_string_column_values(df, column_name):\n",
    "    df[column_name] = df[column_name].str.upper()\n",
    "    df[column_name] = df[column_name].str.strip()\n",
    "    df[column_name] = df[column_name].str.replace(' ', '_')\n",
    "    return df"
   ]
  },
  {
   "cell_type": "markdown",
   "id": "d668b24e",
   "metadata": {},
   "source": [
    "### 1. ¿Cuál es el Estado que más descuentos tiene en total? ¿y en promedio?"
   ]
  },
  {
   "cell_type": "code",
   "execution_count": 31,
   "id": "5d81f28e",
   "metadata": {},
   "outputs": [],
   "source": [
    "orders[\"billing_address\"] = orders[\"billing_address\"].str.upper()\n",
    "orders.fillna({\"billing_address\":\"UNDEFINED\"}, inplace=True)\n",
    "\n",
    "# Los valores de \"billing_address\" se caracterizan por tener en alguna parte\n",
    "# 2 letras mayúsculas seguidas de un espacio y 5 dígitos.\n",
    "# Interpreto las dos letras mayúsculas como el Estado y los 5 dígitos como el código postal.\n",
    "pattern = r'([A-Z]{2})\\s(\\d{5})'\n",
    "orders[[\"state\", \"zip_code\"]] = orders[\"billing_address\"].str.extract(pattern)"
   ]
  },
  {
   "cell_type": "code",
   "execution_count": 32,
   "id": "4e005147",
   "metadata": {},
   "outputs": [
    {
     "name": "stdout",
     "output_type": "stream",
     "text": [
      "Filas totales en dataset orders: 4700000\n",
      "Filas con estado no nulos: 4277862\n",
      "Filas con estado nulo: 422138\n",
      "¿Todas las filas que tienen estado nulo, tienen dirección de facturación indefinida? Si\n"
     ]
    }
   ],
   "source": [
    "# Chequeo que la extracción haya salido bien\n",
    "print(\"Filas totales en dataset orders:\", len(orders))\n",
    "print(\"Filas con estado no nulos:\", orders[\"state\"].notna().sum())\n",
    "print(\"Filas con estado nulo:\", orders[\"state\"].isna().sum())\n",
    "\n",
    "null_state_and_null_billing_addr = orders[\"state\"].isna() & orders[\"billing_address\"].str.contains(\"UNDEFINED\")\n",
    "\n",
    "print(\"¿Todas las filas que tienen estado nulo, tienen dirección de facturación indefinida?\", \n",
    "        \"Si\" if null_state_and_null_billing_addr.sum() == orders[\"state\"].isna().sum() else \"No\")"
   ]
  },
  {
   "cell_type": "code",
   "execution_count": 33,
   "id": "239afaae",
   "metadata": {},
   "outputs": [],
   "source": [
    "# Suposición: Si el valor de la columna \"discount_amount\" es nulo, es porque no hay descuento.\n",
    "orders.fillna({\"discount_amount\":0.0}, inplace=True)"
   ]
  },
  {
   "cell_type": "code",
   "execution_count": 34,
   "id": "aaef80b3",
   "metadata": {},
   "outputs": [
    {
     "name": "stdout",
     "output_type": "stream",
     "text": [
      "Cantidad de estados:  50\n",
      "Estados considerados:  ['ND' 'NJ' 'MN' 'WI' 'OH' 'NV' 'MA' 'AZ' 'MO' 'VT' 'MI' 'NY' 'NM' 'PA'\n",
      " 'WY' 'NE' 'WV' 'KY' 'WA' 'TX' 'OK' 'ME' 'KS' 'IN' 'FL' 'MD' 'MS' 'AL'\n",
      " 'MT' 'ID' 'NC' 'AK' 'SD' 'NH' 'SC' 'CT' 'CA' 'CO' 'GA' 'IA' 'VA' 'OR'\n",
      " 'DE' 'LA' 'UT' 'AR' 'IL' 'TN' 'RI' 'HI']\n"
     ]
    }
   ],
   "source": [
    "# Filtrar estados militares y otros\n",
    "# filtro estos valores por interpretación de enunciado, \n",
    "# supongo que se refería a los 50 estados de EEUU\n",
    "not_states_filter = ~(\n",
    "    orders[\"state\"].str.contains(\"AA\")   # Military Americas\n",
    "    | orders[\"state\"].str.contains(\"AE\") # Military Europe\n",
    "    | orders[\"state\"].str.contains(\"AP\") # Military Pacific\n",
    "    | orders[\"state\"].str.contains(\"FM\") # Federated States of Micronesia\n",
    "    | orders[\"state\"].str.contains(\"MH\") # Marshall Islands\n",
    "    | orders[\"state\"].str.contains(\"MP\") # Northern Mariana Islands\n",
    "    | orders[\"state\"].str.contains(\"PW\") # Palau\n",
    "    | orders[\"state\"].str.contains(\"GU\") # Guam\n",
    "    | orders[\"state\"].str.contains(\"VI\") # U.S. Virgin Islands\n",
    "    | orders[\"state\"].str.contains(\"AS\") # American Samoa\n",
    "    | orders[\"state\"].str.contains(\"PR\") # Puerto Rico\n",
    "    | orders[\"state\"].str.contains(\"DC\") # District of Columbia\n",
    "    | orders[\"state\"].isna()             # Nulos\n",
    ")\n",
    "print(\"Cantidad de estados: \", orders.loc[not_states_filter][\"state\"].unique().size)\n",
    "print(\"Estados considerados: \", orders.loc[not_states_filter][\"state\"].unique())"
   ]
  },
  {
   "cell_type": "code",
   "execution_count": 35,
   "id": "20564e74",
   "metadata": {},
   "outputs": [],
   "source": [
    "import json\n",
    "with open(\"state_names.json\", \"r\") as f:\n",
    "    state_names = json.load(f)"
   ]
  },
  {
   "cell_type": "code",
   "execution_count": 36,
   "id": "33e6716f",
   "metadata": {},
   "outputs": [
    {
     "name": "stdout",
     "output_type": "stream",
     "text": [
      "\n",
      "Top 5 estados con más órdenes con descuentos:\n"
     ]
    },
    {
     "data": {
      "application/vnd.microsoft.datawrangler.viewer.v0+json": {
       "columns": [
        {
         "name": "index",
         "rawType": "int64",
         "type": "integer"
        },
        {
         "name": "Código de Estado",
         "rawType": "object",
         "type": "string"
        },
        {
         "name": "Cantidad de Órdenes con Descuento",
         "rawType": "int64",
         "type": "integer"
        },
        {
         "name": "Nombre del Estado",
         "rawType": "object",
         "type": "string"
        }
       ],
       "ref": "ecbbfbf8-ffd4-4da5-b8b1-429b6ef3e8e7",
       "rows": [
        [
         "17",
         "LA",
         "13950",
         "Louisiana"
        ],
        [
         "23",
         "MO",
         "13940",
         "Missouri"
        ],
        [
         "13",
         "IL",
         "13930",
         "Illinois"
        ],
        [
         "16",
         "KY",
         "13903",
         "Kentucky"
        ],
        [
         "11",
         "IA",
         "13873",
         "Iowa"
        ]
       ],
       "shape": {
        "columns": 3,
        "rows": 5
       }
      },
      "text/html": [
       "<div>\n",
       "<style scoped>\n",
       "    .dataframe tbody tr th:only-of-type {\n",
       "        vertical-align: middle;\n",
       "    }\n",
       "\n",
       "    .dataframe tbody tr th {\n",
       "        vertical-align: top;\n",
       "    }\n",
       "\n",
       "    .dataframe thead th {\n",
       "        text-align: right;\n",
       "    }\n",
       "</style>\n",
       "<table border=\"1\" class=\"dataframe\">\n",
       "  <thead>\n",
       "    <tr style=\"text-align: right;\">\n",
       "      <th></th>\n",
       "      <th>Código de Estado</th>\n",
       "      <th>Cantidad de Órdenes con Descuento</th>\n",
       "      <th>Nombre del Estado</th>\n",
       "    </tr>\n",
       "  </thead>\n",
       "  <tbody>\n",
       "    <tr>\n",
       "      <th>17</th>\n",
       "      <td>LA</td>\n",
       "      <td>13950</td>\n",
       "      <td>Louisiana</td>\n",
       "    </tr>\n",
       "    <tr>\n",
       "      <th>23</th>\n",
       "      <td>MO</td>\n",
       "      <td>13940</td>\n",
       "      <td>Missouri</td>\n",
       "    </tr>\n",
       "    <tr>\n",
       "      <th>13</th>\n",
       "      <td>IL</td>\n",
       "      <td>13930</td>\n",
       "      <td>Illinois</td>\n",
       "    </tr>\n",
       "    <tr>\n",
       "      <th>16</th>\n",
       "      <td>KY</td>\n",
       "      <td>13903</td>\n",
       "      <td>Kentucky</td>\n",
       "    </tr>\n",
       "    <tr>\n",
       "      <th>11</th>\n",
       "      <td>IA</td>\n",
       "      <td>13873</td>\n",
       "      <td>Iowa</td>\n",
       "    </tr>\n",
       "  </tbody>\n",
       "</table>\n",
       "</div>"
      ],
      "text/plain": [
       "   Código de Estado  Cantidad de Órdenes con Descuento Nombre del Estado\n",
       "17               LA                              13950         Louisiana\n",
       "23               MO                              13940          Missouri\n",
       "13               IL                              13930          Illinois\n",
       "16               KY                              13903          Kentucky\n",
       "11               IA                              13873              Iowa"
      ]
     },
     "execution_count": 36,
     "metadata": {},
     "output_type": "execute_result"
    }
   ],
   "source": [
    "orders_with_discount = orders.loc[orders[\"discount_amount\"] > 0].loc[not_states_filter]\n",
    "quantity_of_orders_with_discounts_by_state = \\\n",
    "    orders_with_discount\\\n",
    "        .groupby(\"state\")[\"order_id\"].count().reset_index()\n",
    "\n",
    "quantity_of_orders_with_discounts_by_state[\"Nombre del Estado\"] = quantity_of_orders_with_discounts_by_state[\"state\"].map(state_names)\n",
    "quantity_of_orders_with_discounts_by_state.rename(\n",
    "    columns={\n",
    "        \"order_id\": \"Cantidad de Órdenes con Descuento\",\n",
    "        \"state\": \"Código de Estado\"\n",
    "        }, inplace=True\n",
    "    )\n",
    "\n",
    "print(\"\\nTop 5 estados con más órdenes con descuentos:\")\n",
    "quantity_of_orders_with_discounts_by_state.nlargest(5, \"Cantidad de Órdenes con Descuento\")"
   ]
  },
  {
   "cell_type": "code",
   "execution_count": 48,
   "id": "448468ac",
   "metadata": {},
   "outputs": [
    {
     "name": "stdout",
     "output_type": "stream",
     "text": [
      "\n",
      "Descuento promedio de las órdenes en todos los estados: 50.01077703908652\n",
      "\n",
      "Top 5 estados con mayor descuento promedio en las órdenes:\n"
     ]
    },
    {
     "data": {
      "application/vnd.microsoft.datawrangler.viewer.v0+json": {
       "columns": [
        {
         "name": "index",
         "rawType": "int64",
         "type": "integer"
        },
        {
         "name": "Código de Estado",
         "rawType": "object",
         "type": "string"
        },
        {
         "name": "Descuento Promedio",
         "rawType": "float64",
         "type": "float"
        },
        {
         "name": "Nombre de Estado",
         "rawType": "object",
         "type": "string"
        }
       ],
       "ref": "e1bc6a96-d7fe-4370-af80-cc48518a1358",
       "rows": [
        [
         "26",
         "NC",
         "50.67375117676877",
         "North Carolina"
        ],
        [
         "9",
         "GA",
         "50.462291666666665",
         "Georgia"
        ],
        [
         "35",
         "OK",
         "50.41678442893867",
         "Oklahoma"
        ],
        [
         "5",
         "CO",
         "50.336174457550605",
         "Colorado"
        ],
        [
         "24",
         "MS",
         "50.323949304392166",
         "Mississippi"
        ]
       ],
       "shape": {
        "columns": 3,
        "rows": 5
       }
      },
      "text/html": [
       "<div>\n",
       "<style scoped>\n",
       "    .dataframe tbody tr th:only-of-type {\n",
       "        vertical-align: middle;\n",
       "    }\n",
       "\n",
       "    .dataframe tbody tr th {\n",
       "        vertical-align: top;\n",
       "    }\n",
       "\n",
       "    .dataframe thead th {\n",
       "        text-align: right;\n",
       "    }\n",
       "</style>\n",
       "<table border=\"1\" class=\"dataframe\">\n",
       "  <thead>\n",
       "    <tr style=\"text-align: right;\">\n",
       "      <th></th>\n",
       "      <th>Código de Estado</th>\n",
       "      <th>Descuento Promedio</th>\n",
       "      <th>Nombre de Estado</th>\n",
       "    </tr>\n",
       "  </thead>\n",
       "  <tbody>\n",
       "    <tr>\n",
       "      <th>26</th>\n",
       "      <td>NC</td>\n",
       "      <td>50.673751</td>\n",
       "      <td>North Carolina</td>\n",
       "    </tr>\n",
       "    <tr>\n",
       "      <th>9</th>\n",
       "      <td>GA</td>\n",
       "      <td>50.462292</td>\n",
       "      <td>Georgia</td>\n",
       "    </tr>\n",
       "    <tr>\n",
       "      <th>35</th>\n",
       "      <td>OK</td>\n",
       "      <td>50.416784</td>\n",
       "      <td>Oklahoma</td>\n",
       "    </tr>\n",
       "    <tr>\n",
       "      <th>5</th>\n",
       "      <td>CO</td>\n",
       "      <td>50.336174</td>\n",
       "      <td>Colorado</td>\n",
       "    </tr>\n",
       "    <tr>\n",
       "      <th>24</th>\n",
       "      <td>MS</td>\n",
       "      <td>50.323949</td>\n",
       "      <td>Mississippi</td>\n",
       "    </tr>\n",
       "  </tbody>\n",
       "</table>\n",
       "</div>"
      ],
      "text/plain": [
       "   Código de Estado  Descuento Promedio Nombre de Estado\n",
       "26               NC           50.673751   North Carolina\n",
       "9                GA           50.462292          Georgia\n",
       "35               OK           50.416784         Oklahoma\n",
       "5                CO           50.336174         Colorado\n",
       "24               MS           50.323949      Mississippi"
      ]
     },
     "execution_count": 48,
     "metadata": {},
     "output_type": "execute_result"
    }
   ],
   "source": [
    "states_avg_discount = orders_with_discount.groupby(\"state\")[\"discount_amount\"].mean().reset_index()\n",
    "states_avg_discount[\"Nombre de Estado\"] = states_avg_discount[\"state\"].map(state_names)\n",
    "states_avg_discount.rename(columns={\n",
    "    \"discount_amount\": \"Descuento Promedio\",\n",
    "    \"state\": \"Código de Estado\"   \n",
    "    }, inplace=True\n",
    ")\n",
    "avg_discount = orders_with_discount[\"discount_amount\"].mean()\n",
    "\n",
    "\n",
    "\n",
    "print(\"\\nDescuento promedio de las órdenes en todos los estados:\", avg_discount)\n",
    "print(\"\\nTop 5 estados con mayor descuento promedio en las órdenes:\")\n",
    "states_avg_discount.nlargest(5, \"Descuento Promedio\")"
   ]
  },
  {
   "cell_type": "markdown",
   "id": "831cdfc0",
   "metadata": {},
   "source": [
    "### 2. ¿Cuáles son los 5 códigos postales más comunes para las órdenes con estado 'Refunded'? \n",
    "###    ¿Y cuál es el nombre más frecuente entre los clientes de esas direcciones?"
   ]
  },
  {
   "cell_type": "code",
   "execution_count": 38,
   "id": "20020f0a",
   "metadata": {},
   "outputs": [
    {
     "data": {
      "application/vnd.microsoft.datawrangler.viewer.v0+json": {
       "columns": [
        {
         "name": "status",
         "rawType": "object",
         "type": "string"
        },
        {
         "name": "count",
         "rawType": "int64",
         "type": "integer"
        }
       ],
       "ref": "45f1f0dc-8d2f-4116-8959-119ef3ee2711",
       "rows": [
        [
         "COMPLETED",
         "2993251"
        ],
        [
         "SHIPPED",
         "642088"
        ],
        [
         "UNDEFINED",
         "422360"
        ],
        [
         "PROCESSING",
         "342311"
        ],
        [
         "CANCELLED",
         "171007"
        ],
        [
         "RETURNED",
         "85734"
        ],
        [
         "REFUNDED",
         "43249"
        ]
       ],
       "shape": {
        "columns": 1,
        "rows": 7
       }
      },
      "text/plain": [
       "status\n",
       "COMPLETED     2993251\n",
       "SHIPPED        642088\n",
       "UNDEFINED      422360\n",
       "PROCESSING     342311\n",
       "CANCELLED      171007\n",
       "RETURNED        85734\n",
       "REFUNDED        43249\n",
       "Name: count, dtype: int64"
      ]
     },
     "execution_count": 38,
     "metadata": {},
     "output_type": "execute_result"
    }
   ],
   "source": [
    "orders.fillna({\"status\":\"UNDEFINED\"}, inplace=True)\n",
    "orders = normalize_string_column_values(orders, \"status\")\n",
    "orders[\"status\"].value_counts()"
   ]
  },
  {
   "cell_type": "code",
   "execution_count": 39,
   "id": "d4d4fd4e",
   "metadata": {},
   "outputs": [
    {
     "name": "stdout",
     "output_type": "stream",
     "text": [
      "\n",
      "Top 5 códigos postales más comunes para órdenes con estado 'Refunded':\n",
      "  zip_code  count\n",
      "0    31571      6\n",
      "1    65247      5\n",
      "2    38151      5\n",
      "3    09045      5\n",
      "4    14396      5\n",
      "\n",
      "Códigos postales con 5 órdenes 'Refunded':\n",
      "  zip_code  count\n",
      "1    65247      5\n",
      "2    38151      5\n",
      "3    09045      5\n",
      "4    14396      5\n",
      "5    73291      5\n",
      "6    91623      5\n"
     ]
    }
   ],
   "source": [
    "refunded_orders = orders[orders[\"status\"].str.contains(\"REFUNDED\")]\n",
    "\n",
    "amount_refunded_orders_by_zipcode = refunded_orders[\"zip_code\"].value_counts().reset_index()\n",
    "top_refunded_zipcodes = amount_refunded_orders_by_zipcode.nlargest(5, \"count\")\n",
    "\n",
    "print(\"\\nTop 5 códigos postales más comunes para órdenes con estado 'Refunded':\")\n",
    "print(top_refunded_zipcodes)\n",
    "\n",
    "print(\"\\nCódigos postales con 5 órdenes 'Refunded':\")\n",
    "print(amount_refunded_orders_by_zipcode.loc[amount_refunded_orders_by_zipcode[\"count\"] == 5])\n"
   ]
  },
  {
   "cell_type": "code",
   "execution_count": 40,
   "id": "60632867",
   "metadata": {},
   "outputs": [
    {
     "name": "stdout",
     "output_type": "stream",
     "text": [
      "\n",
      "Top 5 nombres más comunes entre los clientes que realizaron órdenes 'Refunded' en los códigos postales con más órdenes 'Refunded':\n",
      "  first_name  count\n",
      "0    Melissa      4\n",
      "1       John      4\n",
      "2  undefined      4\n",
      "3    Jeffrey      4\n",
      "4      Jamie      3\n"
     ]
    }
   ],
   "source": [
    "# [!] arreglar - se piden los nombres más comunes en los códigos postales, no los nombres más comunes que tienen ordenes 'Refunded'\n",
    "refunded_clients_ids = top_refunded_zipcodes.merge(orders, left_on=\"zip_code\", right_on=\"zip_code\")[\"customer_id\"].unique()\n",
    "refunded_clients_names = customers[customers[\"customer_id\"].isin(refunded_clients_ids)][[\"customer_id\", \"first_name\"]]\n",
    "\n",
    "most_common_names = refunded_clients_names[\"first_name\"].value_counts().reset_index().nlargest(5, \"count\")\n",
    "\n",
    "print(\"\\nTop 5 nombres más comunes entre los clientes que realizaron órdenes 'Refunded' en los códigos postales con más órdenes 'Refunded':\")\n",
    "print(most_common_names)"
   ]
  },
  {
   "cell_type": "markdown",
   "id": "70a9fb10",
   "metadata": {},
   "source": [
    "## 3. Para cada tipo de pago y segmento de cliente, \n",
    "## devolver la suma y el promedio expresado como porcentaje \n",
    "## de clientes activos y de consentimiento de marketing"
   ]
  },
  {
   "cell_type": "code",
   "execution_count": 41,
   "id": "a3a93925",
   "metadata": {},
   "outputs": [],
   "source": [
    "# Limpio los datos y homogeinizo los datos\n",
    "customers = normalize_string_column_values(customers, \"customer_segment\")\n",
    "orders = normalize_string_column_values(orders, \"payment_method\")"
   ]
  },
  {
   "cell_type": "code",
   "execution_count": 42,
   "id": "6bbb8c0a",
   "metadata": {},
   "outputs": [
    {
     "data": {
      "application/vnd.microsoft.datawrangler.viewer.v0+json": {
       "columns": [
        {
         "name": "('payment_method', 'customer_segment')",
         "rawType": "object",
         "type": "unknown"
        },
        {
         "name": "('customer_id', 'count')",
         "rawType": "int64",
         "type": "integer"
        },
        {
         "name": "('is_active', 'sum')",
         "rawType": "int64",
         "type": "integer"
        },
        {
         "name": "('is_active', 'mean')",
         "rawType": "float64",
         "type": "float"
        },
        {
         "name": "('marketing_consent', 'sum')",
         "rawType": "int64",
         "type": "integer"
        },
        {
         "name": "('marketing_consent', 'mean')",
         "rawType": "float64",
         "type": "float"
        }
       ],
       "ref": "05576930-096b-4000-88d9-e81fb419499a",
       "rows": [
        [
         "('BANK_TRANSFER', 'BUDGET')",
         "17867",
         "16041",
         "89.78004141713774",
         "12451",
         "69.68713270274807"
        ],
        [
         "('BANK_TRANSFER', 'PREMIUM')",
         "18292",
         "16441",
         "89.88082221736278",
         "12808",
         "70.01968073474744"
        ],
        [
         "('BANK_TRANSFER', 'REGULAR')",
         "54606",
         "49126",
         "89.96447276856023",
         "38297",
         "70.13331868292862"
        ],
        [
         "('BANK_TRANSFER', 'UNDEFINED')",
         "3029",
         "2719",
         "89.76559920765929",
         "2117",
         "69.89105315285573"
        ],
        [
         "('CASH_ON_DELIVERY', 'BUDGET')",
         "17863",
         "16040",
         "89.79454738845659",
         "12449",
         "69.69154117449476"
        ],
        [
         "('CASH_ON_DELIVERY', 'PREMIUM')",
         "18288",
         "16437",
         "89.87860892388451",
         "12807",
         "70.02952755905511"
        ],
        [
         "('CASH_ON_DELIVERY', 'REGULAR')",
         "54620",
         "49140",
         "89.96704503844745",
         "38307",
         "70.13365067740754"
        ],
        [
         "('CASH_ON_DELIVERY', 'UNDEFINED')",
         "3031",
         "2719",
         "89.70636753546685",
         "2117",
         "69.84493566479709"
        ],
        [
         "('CREDIT_CARD', 'BUDGET')",
         "17865",
         "16039",
         "89.77889728519452",
         "12448",
         "69.67814161768821"
        ],
        [
         "('CREDIT_CARD', 'PREMIUM')",
         "18286",
         "16434",
         "89.87203324948048",
         "12807",
         "70.03718691895439"
        ],
        [
         "('CREDIT_CARD', 'REGULAR')",
         "54614",
         "49132",
         "89.96228073387776",
         "38301",
         "70.13036950232541"
        ],
        [
         "('CREDIT_CARD', 'UNDEFINED')",
         "3032",
         "2720",
         "89.70976253298153",
         "2117",
         "69.82189973614776"
        ],
        [
         "('DEBIT_CARD', 'BUDGET')",
         "17860",
         "16034",
         "89.77603583426652",
         "12441",
         "69.65845464725643"
        ],
        [
         "('DEBIT_CARD', 'PREMIUM')",
         "18292",
         "16442",
         "89.88628908812596",
         "12810",
         "70.03061447627378"
        ],
        [
         "('DEBIT_CARD', 'REGULAR')",
         "54606",
         "49130",
         "89.97179797091894",
         "38295",
         "70.12965608174926"
        ],
        [
         "('DEBIT_CARD', 'UNDEFINED')",
         "3031",
         "2720",
         "89.73935994721214",
         "2117",
         "69.84493566479709"
        ],
        [
         "('DIGITAL_WALLET', 'BUDGET')",
         "17863",
         "16039",
         "89.78894922465432",
         "12445",
         "69.66914851928567"
        ],
        [
         "('DIGITAL_WALLET', 'PREMIUM')",
         "18290",
         "16440",
         "89.88518316019682",
         "12808",
         "70.02733734281028"
        ],
        [
         "('DIGITAL_WALLET', 'REGULAR')",
         "54606",
         "49127",
         "89.9663040691499",
         "38299",
         "70.13698128410797"
        ],
        [
         "('DIGITAL_WALLET', 'UNDEFINED')",
         "3029",
         "2717",
         "89.69957081545064",
         "2115",
         "69.82502476064708"
        ],
        [
         "('PAYPAL', 'BUDGET')",
         "17863",
         "16039",
         "89.78894922465432",
         "12446",
         "69.67474668308795"
        ],
        [
         "('PAYPAL', 'PREMIUM')",
         "18286",
         "16435",
         "89.87750191403259",
         "12808",
         "70.0426555835065"
        ],
        [
         "('PAYPAL', 'REGULAR')",
         "54620",
         "49138",
         "89.96338337605273",
         "38306",
         "70.13181984621018"
        ],
        [
         "('PAYPAL', 'UNDEFINED')",
         "3031",
         "2719",
         "89.70636753546685",
         "2116",
         "69.8119432530518"
        ],
        [
         "('UNDEFINED', 'BUDGET')",
         "13479",
         "12091",
         "89.7025001854737",
         "9391",
         "69.67134060390237"
        ],
        [
         "('UNDEFINED', 'PREMIUM')",
         "13847",
         "12436",
         "89.81006716256229",
         "9759",
         "70.47735971690618"
        ],
        [
         "('UNDEFINED', 'REGULAR')",
         "41245",
         "37104",
         "89.95999515092738",
         "28909",
         "70.09092011152866"
        ],
        [
         "('UNDEFINED', 'UNDEFINED')",
         "2265",
         "2033",
         "89.75717439293598",
         "1563",
         "69.00662251655629"
        ]
       ],
       "shape": {
        "columns": 5,
        "rows": 28
       }
      },
      "text/html": [
       "<div>\n",
       "<style scoped>\n",
       "    .dataframe tbody tr th:only-of-type {\n",
       "        vertical-align: middle;\n",
       "    }\n",
       "\n",
       "    .dataframe tbody tr th {\n",
       "        vertical-align: top;\n",
       "    }\n",
       "\n",
       "    .dataframe thead tr th {\n",
       "        text-align: left;\n",
       "    }\n",
       "\n",
       "    .dataframe thead tr:last-of-type th {\n",
       "        text-align: right;\n",
       "    }\n",
       "</style>\n",
       "<table border=\"1\" class=\"dataframe\">\n",
       "  <thead>\n",
       "    <tr>\n",
       "      <th></th>\n",
       "      <th></th>\n",
       "      <th>customer_id</th>\n",
       "      <th colspan=\"2\" halign=\"left\">is_active</th>\n",
       "      <th colspan=\"2\" halign=\"left\">marketing_consent</th>\n",
       "    </tr>\n",
       "    <tr>\n",
       "      <th></th>\n",
       "      <th></th>\n",
       "      <th>count</th>\n",
       "      <th>sum</th>\n",
       "      <th>mean</th>\n",
       "      <th>sum</th>\n",
       "      <th>mean</th>\n",
       "    </tr>\n",
       "    <tr>\n",
       "      <th>payment_method</th>\n",
       "      <th>customer_segment</th>\n",
       "      <th></th>\n",
       "      <th></th>\n",
       "      <th></th>\n",
       "      <th></th>\n",
       "      <th></th>\n",
       "    </tr>\n",
       "  </thead>\n",
       "  <tbody>\n",
       "    <tr>\n",
       "      <th rowspan=\"4\" valign=\"top\">BANK_TRANSFER</th>\n",
       "      <th>BUDGET</th>\n",
       "      <td>17867</td>\n",
       "      <td>16041</td>\n",
       "      <td>89.780041</td>\n",
       "      <td>12451</td>\n",
       "      <td>69.687133</td>\n",
       "    </tr>\n",
       "    <tr>\n",
       "      <th>PREMIUM</th>\n",
       "      <td>18292</td>\n",
       "      <td>16441</td>\n",
       "      <td>89.880822</td>\n",
       "      <td>12808</td>\n",
       "      <td>70.019681</td>\n",
       "    </tr>\n",
       "    <tr>\n",
       "      <th>REGULAR</th>\n",
       "      <td>54606</td>\n",
       "      <td>49126</td>\n",
       "      <td>89.964473</td>\n",
       "      <td>38297</td>\n",
       "      <td>70.133319</td>\n",
       "    </tr>\n",
       "    <tr>\n",
       "      <th>UNDEFINED</th>\n",
       "      <td>3029</td>\n",
       "      <td>2719</td>\n",
       "      <td>89.765599</td>\n",
       "      <td>2117</td>\n",
       "      <td>69.891053</td>\n",
       "    </tr>\n",
       "    <tr>\n",
       "      <th rowspan=\"4\" valign=\"top\">CASH_ON_DELIVERY</th>\n",
       "      <th>BUDGET</th>\n",
       "      <td>17863</td>\n",
       "      <td>16040</td>\n",
       "      <td>89.794547</td>\n",
       "      <td>12449</td>\n",
       "      <td>69.691541</td>\n",
       "    </tr>\n",
       "    <tr>\n",
       "      <th>PREMIUM</th>\n",
       "      <td>18288</td>\n",
       "      <td>16437</td>\n",
       "      <td>89.878609</td>\n",
       "      <td>12807</td>\n",
       "      <td>70.029528</td>\n",
       "    </tr>\n",
       "    <tr>\n",
       "      <th>REGULAR</th>\n",
       "      <td>54620</td>\n",
       "      <td>49140</td>\n",
       "      <td>89.967045</td>\n",
       "      <td>38307</td>\n",
       "      <td>70.133651</td>\n",
       "    </tr>\n",
       "    <tr>\n",
       "      <th>UNDEFINED</th>\n",
       "      <td>3031</td>\n",
       "      <td>2719</td>\n",
       "      <td>89.706368</td>\n",
       "      <td>2117</td>\n",
       "      <td>69.844936</td>\n",
       "    </tr>\n",
       "    <tr>\n",
       "      <th rowspan=\"4\" valign=\"top\">CREDIT_CARD</th>\n",
       "      <th>BUDGET</th>\n",
       "      <td>17865</td>\n",
       "      <td>16039</td>\n",
       "      <td>89.778897</td>\n",
       "      <td>12448</td>\n",
       "      <td>69.678142</td>\n",
       "    </tr>\n",
       "    <tr>\n",
       "      <th>PREMIUM</th>\n",
       "      <td>18286</td>\n",
       "      <td>16434</td>\n",
       "      <td>89.872033</td>\n",
       "      <td>12807</td>\n",
       "      <td>70.037187</td>\n",
       "    </tr>\n",
       "    <tr>\n",
       "      <th>REGULAR</th>\n",
       "      <td>54614</td>\n",
       "      <td>49132</td>\n",
       "      <td>89.962281</td>\n",
       "      <td>38301</td>\n",
       "      <td>70.130370</td>\n",
       "    </tr>\n",
       "    <tr>\n",
       "      <th>UNDEFINED</th>\n",
       "      <td>3032</td>\n",
       "      <td>2720</td>\n",
       "      <td>89.709763</td>\n",
       "      <td>2117</td>\n",
       "      <td>69.821900</td>\n",
       "    </tr>\n",
       "    <tr>\n",
       "      <th rowspan=\"4\" valign=\"top\">DEBIT_CARD</th>\n",
       "      <th>BUDGET</th>\n",
       "      <td>17860</td>\n",
       "      <td>16034</td>\n",
       "      <td>89.776036</td>\n",
       "      <td>12441</td>\n",
       "      <td>69.658455</td>\n",
       "    </tr>\n",
       "    <tr>\n",
       "      <th>PREMIUM</th>\n",
       "      <td>18292</td>\n",
       "      <td>16442</td>\n",
       "      <td>89.886289</td>\n",
       "      <td>12810</td>\n",
       "      <td>70.030614</td>\n",
       "    </tr>\n",
       "    <tr>\n",
       "      <th>REGULAR</th>\n",
       "      <td>54606</td>\n",
       "      <td>49130</td>\n",
       "      <td>89.971798</td>\n",
       "      <td>38295</td>\n",
       "      <td>70.129656</td>\n",
       "    </tr>\n",
       "    <tr>\n",
       "      <th>UNDEFINED</th>\n",
       "      <td>3031</td>\n",
       "      <td>2720</td>\n",
       "      <td>89.739360</td>\n",
       "      <td>2117</td>\n",
       "      <td>69.844936</td>\n",
       "    </tr>\n",
       "    <tr>\n",
       "      <th rowspan=\"4\" valign=\"top\">DIGITAL_WALLET</th>\n",
       "      <th>BUDGET</th>\n",
       "      <td>17863</td>\n",
       "      <td>16039</td>\n",
       "      <td>89.788949</td>\n",
       "      <td>12445</td>\n",
       "      <td>69.669149</td>\n",
       "    </tr>\n",
       "    <tr>\n",
       "      <th>PREMIUM</th>\n",
       "      <td>18290</td>\n",
       "      <td>16440</td>\n",
       "      <td>89.885183</td>\n",
       "      <td>12808</td>\n",
       "      <td>70.027337</td>\n",
       "    </tr>\n",
       "    <tr>\n",
       "      <th>REGULAR</th>\n",
       "      <td>54606</td>\n",
       "      <td>49127</td>\n",
       "      <td>89.966304</td>\n",
       "      <td>38299</td>\n",
       "      <td>70.136981</td>\n",
       "    </tr>\n",
       "    <tr>\n",
       "      <th>UNDEFINED</th>\n",
       "      <td>3029</td>\n",
       "      <td>2717</td>\n",
       "      <td>89.699571</td>\n",
       "      <td>2115</td>\n",
       "      <td>69.825025</td>\n",
       "    </tr>\n",
       "    <tr>\n",
       "      <th rowspan=\"4\" valign=\"top\">PAYPAL</th>\n",
       "      <th>BUDGET</th>\n",
       "      <td>17863</td>\n",
       "      <td>16039</td>\n",
       "      <td>89.788949</td>\n",
       "      <td>12446</td>\n",
       "      <td>69.674747</td>\n",
       "    </tr>\n",
       "    <tr>\n",
       "      <th>PREMIUM</th>\n",
       "      <td>18286</td>\n",
       "      <td>16435</td>\n",
       "      <td>89.877502</td>\n",
       "      <td>12808</td>\n",
       "      <td>70.042656</td>\n",
       "    </tr>\n",
       "    <tr>\n",
       "      <th>REGULAR</th>\n",
       "      <td>54620</td>\n",
       "      <td>49138</td>\n",
       "      <td>89.963383</td>\n",
       "      <td>38306</td>\n",
       "      <td>70.131820</td>\n",
       "    </tr>\n",
       "    <tr>\n",
       "      <th>UNDEFINED</th>\n",
       "      <td>3031</td>\n",
       "      <td>2719</td>\n",
       "      <td>89.706368</td>\n",
       "      <td>2116</td>\n",
       "      <td>69.811943</td>\n",
       "    </tr>\n",
       "    <tr>\n",
       "      <th rowspan=\"4\" valign=\"top\">UNDEFINED</th>\n",
       "      <th>BUDGET</th>\n",
       "      <td>13479</td>\n",
       "      <td>12091</td>\n",
       "      <td>89.702500</td>\n",
       "      <td>9391</td>\n",
       "      <td>69.671341</td>\n",
       "    </tr>\n",
       "    <tr>\n",
       "      <th>PREMIUM</th>\n",
       "      <td>13847</td>\n",
       "      <td>12436</td>\n",
       "      <td>89.810067</td>\n",
       "      <td>9759</td>\n",
       "      <td>70.477360</td>\n",
       "    </tr>\n",
       "    <tr>\n",
       "      <th>REGULAR</th>\n",
       "      <td>41245</td>\n",
       "      <td>37104</td>\n",
       "      <td>89.959995</td>\n",
       "      <td>28909</td>\n",
       "      <td>70.090920</td>\n",
       "    </tr>\n",
       "    <tr>\n",
       "      <th>UNDEFINED</th>\n",
       "      <td>2265</td>\n",
       "      <td>2033</td>\n",
       "      <td>89.757174</td>\n",
       "      <td>1563</td>\n",
       "      <td>69.006623</td>\n",
       "    </tr>\n",
       "  </tbody>\n",
       "</table>\n",
       "</div>"
      ],
      "text/plain": [
       "                                  customer_id is_active             \\\n",
       "                                        count       sum       mean   \n",
       "payment_method   customer_segment                                    \n",
       "BANK_TRANSFER    BUDGET                 17867     16041  89.780041   \n",
       "                 PREMIUM                18292     16441  89.880822   \n",
       "                 REGULAR                54606     49126  89.964473   \n",
       "                 UNDEFINED               3029      2719  89.765599   \n",
       "CASH_ON_DELIVERY BUDGET                 17863     16040  89.794547   \n",
       "                 PREMIUM                18288     16437  89.878609   \n",
       "                 REGULAR                54620     49140  89.967045   \n",
       "                 UNDEFINED               3031      2719  89.706368   \n",
       "CREDIT_CARD      BUDGET                 17865     16039  89.778897   \n",
       "                 PREMIUM                18286     16434  89.872033   \n",
       "                 REGULAR                54614     49132  89.962281   \n",
       "                 UNDEFINED               3032      2720  89.709763   \n",
       "DEBIT_CARD       BUDGET                 17860     16034  89.776036   \n",
       "                 PREMIUM                18292     16442  89.886289   \n",
       "                 REGULAR                54606     49130  89.971798   \n",
       "                 UNDEFINED               3031      2720  89.739360   \n",
       "DIGITAL_WALLET   BUDGET                 17863     16039  89.788949   \n",
       "                 PREMIUM                18290     16440  89.885183   \n",
       "                 REGULAR                54606     49127  89.966304   \n",
       "                 UNDEFINED               3029      2717  89.699571   \n",
       "PAYPAL           BUDGET                 17863     16039  89.788949   \n",
       "                 PREMIUM                18286     16435  89.877502   \n",
       "                 REGULAR                54620     49138  89.963383   \n",
       "                 UNDEFINED               3031      2719  89.706368   \n",
       "UNDEFINED        BUDGET                 13479     12091  89.702500   \n",
       "                 PREMIUM                13847     12436  89.810067   \n",
       "                 REGULAR                41245     37104  89.959995   \n",
       "                 UNDEFINED               2265      2033  89.757174   \n",
       "\n",
       "                                  marketing_consent             \n",
       "                                                sum       mean  \n",
       "payment_method   customer_segment                               \n",
       "BANK_TRANSFER    BUDGET                       12451  69.687133  \n",
       "                 PREMIUM                      12808  70.019681  \n",
       "                 REGULAR                      38297  70.133319  \n",
       "                 UNDEFINED                     2117  69.891053  \n",
       "CASH_ON_DELIVERY BUDGET                       12449  69.691541  \n",
       "                 PREMIUM                      12807  70.029528  \n",
       "                 REGULAR                      38307  70.133651  \n",
       "                 UNDEFINED                     2117  69.844936  \n",
       "CREDIT_CARD      BUDGET                       12448  69.678142  \n",
       "                 PREMIUM                      12807  70.037187  \n",
       "                 REGULAR                      38301  70.130370  \n",
       "                 UNDEFINED                     2117  69.821900  \n",
       "DEBIT_CARD       BUDGET                       12441  69.658455  \n",
       "                 PREMIUM                      12810  70.030614  \n",
       "                 REGULAR                      38295  70.129656  \n",
       "                 UNDEFINED                     2117  69.844936  \n",
       "DIGITAL_WALLET   BUDGET                       12445  69.669149  \n",
       "                 PREMIUM                      12808  70.027337  \n",
       "                 REGULAR                      38299  70.136981  \n",
       "                 UNDEFINED                     2115  69.825025  \n",
       "PAYPAL           BUDGET                       12446  69.674747  \n",
       "                 PREMIUM                      12808  70.042656  \n",
       "                 REGULAR                      38306  70.131820  \n",
       "                 UNDEFINED                     2116  69.811943  \n",
       "UNDEFINED        BUDGET                        9391  69.671341  \n",
       "                 PREMIUM                       9759  70.477360  \n",
       "                 REGULAR                      28909  70.090920  \n",
       "                 UNDEFINED                     1563  69.006623  "
      ]
     },
     "execution_count": 42,
     "metadata": {},
     "output_type": "execute_result"
    }
   ],
   "source": [
    "# Mergeo los dos dataframes porque necesito columnas de ambos:\n",
    "# de customers: is_active, marketing_consent, customer_segment\n",
    "# de orders:    payment_method\n",
    "orders_customers = orders.merge(customers, on=\"customer_id\").reset_index()\n",
    "\n",
    "# Paso las dos columnas booleanas a enteros para poder calcular el porcentaje \n",
    "# a través del promedio\n",
    "orders_customers[\"is_active\"] = orders_customers[\"is_active\"].astype(int)\n",
    "orders_customers[\"marketing_consent\"] = orders_customers[\"marketing_consent\"].astype(int)\n",
    "\n",
    "# Me quedo con filas únicas por combinación de método de pago, segmento de cliente y customer_id\n",
    "# para no contar dos veces a un mismo cliente que hizo varias órdenes con el mismo método de pago\n",
    "orders_customers_unique = orders_customers.drop_duplicates(subset=[\"payment_method\", \"customer_segment\", \"customer_id\"])\n",
    "\n",
    "orders_customers_grouped = orders_customers_unique.groupby([\"payment_method\", \"customer_segment\"]).agg({\n",
    "    \"customer_id\": \"count\",\n",
    "    \"is_active\": [\"sum\", \"mean\"],\n",
    "    \"marketing_consent\": [\"sum\", \"mean\"]\n",
    "})\n",
    "orders_customers_grouped[('is_active', 'mean')] = orders_customers_grouped[('is_active', 'mean')] * 100\n",
    "orders_customers_grouped[('marketing_consent', 'mean')] = orders_customers_grouped[('marketing_consent', 'mean')] * 100\n",
    "orders_customers_grouped"
   ]
  },
  {
   "cell_type": "code",
   "execution_count": 43,
   "id": "0870bd4d",
   "metadata": {},
   "outputs": [
    {
     "data": {
      "application/vnd.microsoft.datawrangler.viewer.v0+json": {
       "columns": [
        {
         "name": "('Método de Pago', 'Segmento de Cliente')",
         "rawType": "object",
         "type": "unknown"
        },
        {
         "name": "Total de usuarios",
         "rawType": "int64",
         "type": "integer"
        },
        {
         "name": "Total de usuarios activos",
         "rawType": "int64",
         "type": "integer"
        },
        {
         "name": "Porcentaje de usuarios activos",
         "rawType": "float64",
         "type": "float"
        },
        {
         "name": "Total de consentimientos de marketing",
         "rawType": "int64",
         "type": "integer"
        },
        {
         "name": "Porcentaje de consentimientos de marketing",
         "rawType": "float64",
         "type": "float"
        }
       ],
       "ref": "14d48285-2673-404c-beb7-21df243100fb",
       "rows": [
        [
         "('BANK_TRANSFER', 'BUDGET')",
         "17867",
         "16041",
         "89.78004141713774",
         "12451",
         "69.68713270274807"
        ],
        [
         "('BANK_TRANSFER', 'PREMIUM')",
         "18292",
         "16441",
         "89.88082221736278",
         "12808",
         "70.01968073474744"
        ],
        [
         "('BANK_TRANSFER', 'REGULAR')",
         "54606",
         "49126",
         "89.96447276856023",
         "38297",
         "70.13331868292862"
        ],
        [
         "('BANK_TRANSFER', 'UNDEFINED')",
         "3029",
         "2719",
         "89.76559920765929",
         "2117",
         "69.89105315285573"
        ],
        [
         "('CASH_ON_DELIVERY', 'BUDGET')",
         "17863",
         "16040",
         "89.79454738845659",
         "12449",
         "69.69154117449476"
        ],
        [
         "('CASH_ON_DELIVERY', 'PREMIUM')",
         "18288",
         "16437",
         "89.87860892388451",
         "12807",
         "70.02952755905511"
        ],
        [
         "('CASH_ON_DELIVERY', 'REGULAR')",
         "54620",
         "49140",
         "89.96704503844745",
         "38307",
         "70.13365067740754"
        ],
        [
         "('CASH_ON_DELIVERY', 'UNDEFINED')",
         "3031",
         "2719",
         "89.70636753546685",
         "2117",
         "69.84493566479709"
        ],
        [
         "('CREDIT_CARD', 'BUDGET')",
         "17865",
         "16039",
         "89.77889728519452",
         "12448",
         "69.67814161768821"
        ],
        [
         "('CREDIT_CARD', 'PREMIUM')",
         "18286",
         "16434",
         "89.87203324948048",
         "12807",
         "70.03718691895439"
        ],
        [
         "('CREDIT_CARD', 'REGULAR')",
         "54614",
         "49132",
         "89.96228073387776",
         "38301",
         "70.13036950232541"
        ],
        [
         "('CREDIT_CARD', 'UNDEFINED')",
         "3032",
         "2720",
         "89.70976253298153",
         "2117",
         "69.82189973614776"
        ],
        [
         "('DEBIT_CARD', 'BUDGET')",
         "17860",
         "16034",
         "89.77603583426652",
         "12441",
         "69.65845464725643"
        ],
        [
         "('DEBIT_CARD', 'PREMIUM')",
         "18292",
         "16442",
         "89.88628908812596",
         "12810",
         "70.03061447627378"
        ],
        [
         "('DEBIT_CARD', 'REGULAR')",
         "54606",
         "49130",
         "89.97179797091894",
         "38295",
         "70.12965608174926"
        ],
        [
         "('DEBIT_CARD', 'UNDEFINED')",
         "3031",
         "2720",
         "89.73935994721214",
         "2117",
         "69.84493566479709"
        ],
        [
         "('DIGITAL_WALLET', 'BUDGET')",
         "17863",
         "16039",
         "89.78894922465432",
         "12445",
         "69.66914851928567"
        ],
        [
         "('DIGITAL_WALLET', 'PREMIUM')",
         "18290",
         "16440",
         "89.88518316019682",
         "12808",
         "70.02733734281028"
        ],
        [
         "('DIGITAL_WALLET', 'REGULAR')",
         "54606",
         "49127",
         "89.9663040691499",
         "38299",
         "70.13698128410797"
        ],
        [
         "('DIGITAL_WALLET', 'UNDEFINED')",
         "3029",
         "2717",
         "89.69957081545064",
         "2115",
         "69.82502476064708"
        ],
        [
         "('PAYPAL', 'BUDGET')",
         "17863",
         "16039",
         "89.78894922465432",
         "12446",
         "69.67474668308795"
        ],
        [
         "('PAYPAL', 'PREMIUM')",
         "18286",
         "16435",
         "89.87750191403259",
         "12808",
         "70.0426555835065"
        ],
        [
         "('PAYPAL', 'REGULAR')",
         "54620",
         "49138",
         "89.96338337605273",
         "38306",
         "70.13181984621018"
        ],
        [
         "('PAYPAL', 'UNDEFINED')",
         "3031",
         "2719",
         "89.70636753546685",
         "2116",
         "69.8119432530518"
        ],
        [
         "('UNDEFINED', 'BUDGET')",
         "13479",
         "12091",
         "89.7025001854737",
         "9391",
         "69.67134060390237"
        ],
        [
         "('UNDEFINED', 'PREMIUM')",
         "13847",
         "12436",
         "89.81006716256229",
         "9759",
         "70.47735971690618"
        ],
        [
         "('UNDEFINED', 'REGULAR')",
         "41245",
         "37104",
         "89.95999515092738",
         "28909",
         "70.09092011152866"
        ],
        [
         "('UNDEFINED', 'UNDEFINED')",
         "2265",
         "2033",
         "89.75717439293598",
         "1563",
         "69.00662251655629"
        ]
       ],
       "shape": {
        "columns": 5,
        "rows": 28
       }
      },
      "text/html": [
       "<div>\n",
       "<style scoped>\n",
       "    .dataframe tbody tr th:only-of-type {\n",
       "        vertical-align: middle;\n",
       "    }\n",
       "\n",
       "    .dataframe tbody tr th {\n",
       "        vertical-align: top;\n",
       "    }\n",
       "\n",
       "    .dataframe thead th {\n",
       "        text-align: right;\n",
       "    }\n",
       "</style>\n",
       "<table border=\"1\" class=\"dataframe\">\n",
       "  <thead>\n",
       "    <tr style=\"text-align: right;\">\n",
       "      <th></th>\n",
       "      <th></th>\n",
       "      <th>Total de usuarios</th>\n",
       "      <th>Total de usuarios activos</th>\n",
       "      <th>Porcentaje de usuarios activos</th>\n",
       "      <th>Total de consentimientos de marketing</th>\n",
       "      <th>Porcentaje de consentimientos de marketing</th>\n",
       "    </tr>\n",
       "    <tr>\n",
       "      <th>Método de Pago</th>\n",
       "      <th>Segmento de Cliente</th>\n",
       "      <th></th>\n",
       "      <th></th>\n",
       "      <th></th>\n",
       "      <th></th>\n",
       "      <th></th>\n",
       "    </tr>\n",
       "  </thead>\n",
       "  <tbody>\n",
       "    <tr>\n",
       "      <th rowspan=\"4\" valign=\"top\">BANK_TRANSFER</th>\n",
       "      <th>BUDGET</th>\n",
       "      <td>17867</td>\n",
       "      <td>16041</td>\n",
       "      <td>89.780041</td>\n",
       "      <td>12451</td>\n",
       "      <td>69.687133</td>\n",
       "    </tr>\n",
       "    <tr>\n",
       "      <th>PREMIUM</th>\n",
       "      <td>18292</td>\n",
       "      <td>16441</td>\n",
       "      <td>89.880822</td>\n",
       "      <td>12808</td>\n",
       "      <td>70.019681</td>\n",
       "    </tr>\n",
       "    <tr>\n",
       "      <th>REGULAR</th>\n",
       "      <td>54606</td>\n",
       "      <td>49126</td>\n",
       "      <td>89.964473</td>\n",
       "      <td>38297</td>\n",
       "      <td>70.133319</td>\n",
       "    </tr>\n",
       "    <tr>\n",
       "      <th>UNDEFINED</th>\n",
       "      <td>3029</td>\n",
       "      <td>2719</td>\n",
       "      <td>89.765599</td>\n",
       "      <td>2117</td>\n",
       "      <td>69.891053</td>\n",
       "    </tr>\n",
       "    <tr>\n",
       "      <th rowspan=\"4\" valign=\"top\">CASH_ON_DELIVERY</th>\n",
       "      <th>BUDGET</th>\n",
       "      <td>17863</td>\n",
       "      <td>16040</td>\n",
       "      <td>89.794547</td>\n",
       "      <td>12449</td>\n",
       "      <td>69.691541</td>\n",
       "    </tr>\n",
       "    <tr>\n",
       "      <th>PREMIUM</th>\n",
       "      <td>18288</td>\n",
       "      <td>16437</td>\n",
       "      <td>89.878609</td>\n",
       "      <td>12807</td>\n",
       "      <td>70.029528</td>\n",
       "    </tr>\n",
       "    <tr>\n",
       "      <th>REGULAR</th>\n",
       "      <td>54620</td>\n",
       "      <td>49140</td>\n",
       "      <td>89.967045</td>\n",
       "      <td>38307</td>\n",
       "      <td>70.133651</td>\n",
       "    </tr>\n",
       "    <tr>\n",
       "      <th>UNDEFINED</th>\n",
       "      <td>3031</td>\n",
       "      <td>2719</td>\n",
       "      <td>89.706368</td>\n",
       "      <td>2117</td>\n",
       "      <td>69.844936</td>\n",
       "    </tr>\n",
       "    <tr>\n",
       "      <th rowspan=\"4\" valign=\"top\">CREDIT_CARD</th>\n",
       "      <th>BUDGET</th>\n",
       "      <td>17865</td>\n",
       "      <td>16039</td>\n",
       "      <td>89.778897</td>\n",
       "      <td>12448</td>\n",
       "      <td>69.678142</td>\n",
       "    </tr>\n",
       "    <tr>\n",
       "      <th>PREMIUM</th>\n",
       "      <td>18286</td>\n",
       "      <td>16434</td>\n",
       "      <td>89.872033</td>\n",
       "      <td>12807</td>\n",
       "      <td>70.037187</td>\n",
       "    </tr>\n",
       "    <tr>\n",
       "      <th>REGULAR</th>\n",
       "      <td>54614</td>\n",
       "      <td>49132</td>\n",
       "      <td>89.962281</td>\n",
       "      <td>38301</td>\n",
       "      <td>70.130370</td>\n",
       "    </tr>\n",
       "    <tr>\n",
       "      <th>UNDEFINED</th>\n",
       "      <td>3032</td>\n",
       "      <td>2720</td>\n",
       "      <td>89.709763</td>\n",
       "      <td>2117</td>\n",
       "      <td>69.821900</td>\n",
       "    </tr>\n",
       "    <tr>\n",
       "      <th rowspan=\"4\" valign=\"top\">DEBIT_CARD</th>\n",
       "      <th>BUDGET</th>\n",
       "      <td>17860</td>\n",
       "      <td>16034</td>\n",
       "      <td>89.776036</td>\n",
       "      <td>12441</td>\n",
       "      <td>69.658455</td>\n",
       "    </tr>\n",
       "    <tr>\n",
       "      <th>PREMIUM</th>\n",
       "      <td>18292</td>\n",
       "      <td>16442</td>\n",
       "      <td>89.886289</td>\n",
       "      <td>12810</td>\n",
       "      <td>70.030614</td>\n",
       "    </tr>\n",
       "    <tr>\n",
       "      <th>REGULAR</th>\n",
       "      <td>54606</td>\n",
       "      <td>49130</td>\n",
       "      <td>89.971798</td>\n",
       "      <td>38295</td>\n",
       "      <td>70.129656</td>\n",
       "    </tr>\n",
       "    <tr>\n",
       "      <th>UNDEFINED</th>\n",
       "      <td>3031</td>\n",
       "      <td>2720</td>\n",
       "      <td>89.739360</td>\n",
       "      <td>2117</td>\n",
       "      <td>69.844936</td>\n",
       "    </tr>\n",
       "    <tr>\n",
       "      <th rowspan=\"4\" valign=\"top\">DIGITAL_WALLET</th>\n",
       "      <th>BUDGET</th>\n",
       "      <td>17863</td>\n",
       "      <td>16039</td>\n",
       "      <td>89.788949</td>\n",
       "      <td>12445</td>\n",
       "      <td>69.669149</td>\n",
       "    </tr>\n",
       "    <tr>\n",
       "      <th>PREMIUM</th>\n",
       "      <td>18290</td>\n",
       "      <td>16440</td>\n",
       "      <td>89.885183</td>\n",
       "      <td>12808</td>\n",
       "      <td>70.027337</td>\n",
       "    </tr>\n",
       "    <tr>\n",
       "      <th>REGULAR</th>\n",
       "      <td>54606</td>\n",
       "      <td>49127</td>\n",
       "      <td>89.966304</td>\n",
       "      <td>38299</td>\n",
       "      <td>70.136981</td>\n",
       "    </tr>\n",
       "    <tr>\n",
       "      <th>UNDEFINED</th>\n",
       "      <td>3029</td>\n",
       "      <td>2717</td>\n",
       "      <td>89.699571</td>\n",
       "      <td>2115</td>\n",
       "      <td>69.825025</td>\n",
       "    </tr>\n",
       "    <tr>\n",
       "      <th rowspan=\"4\" valign=\"top\">PAYPAL</th>\n",
       "      <th>BUDGET</th>\n",
       "      <td>17863</td>\n",
       "      <td>16039</td>\n",
       "      <td>89.788949</td>\n",
       "      <td>12446</td>\n",
       "      <td>69.674747</td>\n",
       "    </tr>\n",
       "    <tr>\n",
       "      <th>PREMIUM</th>\n",
       "      <td>18286</td>\n",
       "      <td>16435</td>\n",
       "      <td>89.877502</td>\n",
       "      <td>12808</td>\n",
       "      <td>70.042656</td>\n",
       "    </tr>\n",
       "    <tr>\n",
       "      <th>REGULAR</th>\n",
       "      <td>54620</td>\n",
       "      <td>49138</td>\n",
       "      <td>89.963383</td>\n",
       "      <td>38306</td>\n",
       "      <td>70.131820</td>\n",
       "    </tr>\n",
       "    <tr>\n",
       "      <th>UNDEFINED</th>\n",
       "      <td>3031</td>\n",
       "      <td>2719</td>\n",
       "      <td>89.706368</td>\n",
       "      <td>2116</td>\n",
       "      <td>69.811943</td>\n",
       "    </tr>\n",
       "    <tr>\n",
       "      <th rowspan=\"4\" valign=\"top\">UNDEFINED</th>\n",
       "      <th>BUDGET</th>\n",
       "      <td>13479</td>\n",
       "      <td>12091</td>\n",
       "      <td>89.702500</td>\n",
       "      <td>9391</td>\n",
       "      <td>69.671341</td>\n",
       "    </tr>\n",
       "    <tr>\n",
       "      <th>PREMIUM</th>\n",
       "      <td>13847</td>\n",
       "      <td>12436</td>\n",
       "      <td>89.810067</td>\n",
       "      <td>9759</td>\n",
       "      <td>70.477360</td>\n",
       "    </tr>\n",
       "    <tr>\n",
       "      <th>REGULAR</th>\n",
       "      <td>41245</td>\n",
       "      <td>37104</td>\n",
       "      <td>89.959995</td>\n",
       "      <td>28909</td>\n",
       "      <td>70.090920</td>\n",
       "    </tr>\n",
       "    <tr>\n",
       "      <th>UNDEFINED</th>\n",
       "      <td>2265</td>\n",
       "      <td>2033</td>\n",
       "      <td>89.757174</td>\n",
       "      <td>1563</td>\n",
       "      <td>69.006623</td>\n",
       "    </tr>\n",
       "  </tbody>\n",
       "</table>\n",
       "</div>"
      ],
      "text/plain": [
       "                                      Total de usuarios  \\\n",
       "Método de Pago   Segmento de Cliente                      \n",
       "BANK_TRANSFER    BUDGET                           17867   \n",
       "                 PREMIUM                          18292   \n",
       "                 REGULAR                          54606   \n",
       "                 UNDEFINED                         3029   \n",
       "CASH_ON_DELIVERY BUDGET                           17863   \n",
       "                 PREMIUM                          18288   \n",
       "                 REGULAR                          54620   \n",
       "                 UNDEFINED                         3031   \n",
       "CREDIT_CARD      BUDGET                           17865   \n",
       "                 PREMIUM                          18286   \n",
       "                 REGULAR                          54614   \n",
       "                 UNDEFINED                         3032   \n",
       "DEBIT_CARD       BUDGET                           17860   \n",
       "                 PREMIUM                          18292   \n",
       "                 REGULAR                          54606   \n",
       "                 UNDEFINED                         3031   \n",
       "DIGITAL_WALLET   BUDGET                           17863   \n",
       "                 PREMIUM                          18290   \n",
       "                 REGULAR                          54606   \n",
       "                 UNDEFINED                         3029   \n",
       "PAYPAL           BUDGET                           17863   \n",
       "                 PREMIUM                          18286   \n",
       "                 REGULAR                          54620   \n",
       "                 UNDEFINED                         3031   \n",
       "UNDEFINED        BUDGET                           13479   \n",
       "                 PREMIUM                          13847   \n",
       "                 REGULAR                          41245   \n",
       "                 UNDEFINED                         2265   \n",
       "\n",
       "                                      Total de usuarios activos  \\\n",
       "Método de Pago   Segmento de Cliente                              \n",
       "BANK_TRANSFER    BUDGET                                   16041   \n",
       "                 PREMIUM                                  16441   \n",
       "                 REGULAR                                  49126   \n",
       "                 UNDEFINED                                 2719   \n",
       "CASH_ON_DELIVERY BUDGET                                   16040   \n",
       "                 PREMIUM                                  16437   \n",
       "                 REGULAR                                  49140   \n",
       "                 UNDEFINED                                 2719   \n",
       "CREDIT_CARD      BUDGET                                   16039   \n",
       "                 PREMIUM                                  16434   \n",
       "                 REGULAR                                  49132   \n",
       "                 UNDEFINED                                 2720   \n",
       "DEBIT_CARD       BUDGET                                   16034   \n",
       "                 PREMIUM                                  16442   \n",
       "                 REGULAR                                  49130   \n",
       "                 UNDEFINED                                 2720   \n",
       "DIGITAL_WALLET   BUDGET                                   16039   \n",
       "                 PREMIUM                                  16440   \n",
       "                 REGULAR                                  49127   \n",
       "                 UNDEFINED                                 2717   \n",
       "PAYPAL           BUDGET                                   16039   \n",
       "                 PREMIUM                                  16435   \n",
       "                 REGULAR                                  49138   \n",
       "                 UNDEFINED                                 2719   \n",
       "UNDEFINED        BUDGET                                   12091   \n",
       "                 PREMIUM                                  12436   \n",
       "                 REGULAR                                  37104   \n",
       "                 UNDEFINED                                 2033   \n",
       "\n",
       "                                      Porcentaje de usuarios activos  \\\n",
       "Método de Pago   Segmento de Cliente                                   \n",
       "BANK_TRANSFER    BUDGET                                    89.780041   \n",
       "                 PREMIUM                                   89.880822   \n",
       "                 REGULAR                                   89.964473   \n",
       "                 UNDEFINED                                 89.765599   \n",
       "CASH_ON_DELIVERY BUDGET                                    89.794547   \n",
       "                 PREMIUM                                   89.878609   \n",
       "                 REGULAR                                   89.967045   \n",
       "                 UNDEFINED                                 89.706368   \n",
       "CREDIT_CARD      BUDGET                                    89.778897   \n",
       "                 PREMIUM                                   89.872033   \n",
       "                 REGULAR                                   89.962281   \n",
       "                 UNDEFINED                                 89.709763   \n",
       "DEBIT_CARD       BUDGET                                    89.776036   \n",
       "                 PREMIUM                                   89.886289   \n",
       "                 REGULAR                                   89.971798   \n",
       "                 UNDEFINED                                 89.739360   \n",
       "DIGITAL_WALLET   BUDGET                                    89.788949   \n",
       "                 PREMIUM                                   89.885183   \n",
       "                 REGULAR                                   89.966304   \n",
       "                 UNDEFINED                                 89.699571   \n",
       "PAYPAL           BUDGET                                    89.788949   \n",
       "                 PREMIUM                                   89.877502   \n",
       "                 REGULAR                                   89.963383   \n",
       "                 UNDEFINED                                 89.706368   \n",
       "UNDEFINED        BUDGET                                    89.702500   \n",
       "                 PREMIUM                                   89.810067   \n",
       "                 REGULAR                                   89.959995   \n",
       "                 UNDEFINED                                 89.757174   \n",
       "\n",
       "                                      Total de consentimientos de marketing  \\\n",
       "Método de Pago   Segmento de Cliente                                          \n",
       "BANK_TRANSFER    BUDGET                                               12451   \n",
       "                 PREMIUM                                              12808   \n",
       "                 REGULAR                                              38297   \n",
       "                 UNDEFINED                                             2117   \n",
       "CASH_ON_DELIVERY BUDGET                                               12449   \n",
       "                 PREMIUM                                              12807   \n",
       "                 REGULAR                                              38307   \n",
       "                 UNDEFINED                                             2117   \n",
       "CREDIT_CARD      BUDGET                                               12448   \n",
       "                 PREMIUM                                              12807   \n",
       "                 REGULAR                                              38301   \n",
       "                 UNDEFINED                                             2117   \n",
       "DEBIT_CARD       BUDGET                                               12441   \n",
       "                 PREMIUM                                              12810   \n",
       "                 REGULAR                                              38295   \n",
       "                 UNDEFINED                                             2117   \n",
       "DIGITAL_WALLET   BUDGET                                               12445   \n",
       "                 PREMIUM                                              12808   \n",
       "                 REGULAR                                              38299   \n",
       "                 UNDEFINED                                             2115   \n",
       "PAYPAL           BUDGET                                               12446   \n",
       "                 PREMIUM                                              12808   \n",
       "                 REGULAR                                              38306   \n",
       "                 UNDEFINED                                             2116   \n",
       "UNDEFINED        BUDGET                                                9391   \n",
       "                 PREMIUM                                               9759   \n",
       "                 REGULAR                                              28909   \n",
       "                 UNDEFINED                                             1563   \n",
       "\n",
       "                                      Porcentaje de consentimientos de marketing  \n",
       "Método de Pago   Segmento de Cliente                                              \n",
       "BANK_TRANSFER    BUDGET                                                69.687133  \n",
       "                 PREMIUM                                               70.019681  \n",
       "                 REGULAR                                               70.133319  \n",
       "                 UNDEFINED                                             69.891053  \n",
       "CASH_ON_DELIVERY BUDGET                                                69.691541  \n",
       "                 PREMIUM                                               70.029528  \n",
       "                 REGULAR                                               70.133651  \n",
       "                 UNDEFINED                                             69.844936  \n",
       "CREDIT_CARD      BUDGET                                                69.678142  \n",
       "                 PREMIUM                                               70.037187  \n",
       "                 REGULAR                                               70.130370  \n",
       "                 UNDEFINED                                             69.821900  \n",
       "DEBIT_CARD       BUDGET                                                69.658455  \n",
       "                 PREMIUM                                               70.030614  \n",
       "                 REGULAR                                               70.129656  \n",
       "                 UNDEFINED                                             69.844936  \n",
       "DIGITAL_WALLET   BUDGET                                                69.669149  \n",
       "                 PREMIUM                                               70.027337  \n",
       "                 REGULAR                                               70.136981  \n",
       "                 UNDEFINED                                             69.825025  \n",
       "PAYPAL           BUDGET                                                69.674747  \n",
       "                 PREMIUM                                               70.042656  \n",
       "                 REGULAR                                               70.131820  \n",
       "                 UNDEFINED                                             69.811943  \n",
       "UNDEFINED        BUDGET                                                69.671341  \n",
       "                 PREMIUM                                               70.477360  \n",
       "                 REGULAR                                               70.090920  \n",
       "                 UNDEFINED                                             69.006623  "
      ]
     },
     "execution_count": 43,
     "metadata": {},
     "output_type": "execute_result"
    }
   ],
   "source": [
    "orders_customers_grouped.columns = [\n",
    "    'Total de usuarios',\n",
    "    'Total de usuarios activos',\n",
    "    'Porcentaje de usuarios activos',\n",
    "    'Total de consentimientos de marketing',\n",
    "    'Porcentaje de consentimientos de marketing'\n",
    "]\n",
    "orders_customers_grouped.index.set_names(['Método de Pago', 'Segmento de Cliente'], inplace=True)\n",
    "orders_customers_grouped"
   ]
  },
  {
   "cell_type": "code",
   "execution_count": 44,
   "id": "45415c3c",
   "metadata": {},
   "outputs": [
    {
     "data": {
      "text/plain": [
       "<Axes: title={'center': 'Cantidad de usuarios activos por método de pago y segmento de cliente'}, xlabel='Segmento de Cliente', ylabel='Método de Pago'>"
      ]
     },
     "execution_count": 44,
     "metadata": {},
     "output_type": "execute_result"
    },
    {
     "data": {
      "image/png": "[encoded data removed]",
      "text/plain": [
       "<Figure size 1200x600 with 2 Axes>"
      ]
     },
     "metadata": {},
     "output_type": "display_data"
    }
   ],
   "source": [
    "client_by_payment_segment = orders_customers_grouped['Total de usuarios activos'].unstack()\n",
    "plt.figure(figsize=(12, 6))\n",
    "plt.title('Cantidad de usuarios activos por método de pago y segmento de cliente')\n",
    "sns.heatmap(client_by_payment_segment, annot=True, fmt=\".0f\", cmap=\"YlGnBu\", linecolor=\"white\", linewidths=0.6)"
   ]
  },
  {
   "cell_type": "markdown",
   "id": "e9df7ec5",
   "metadata": {},
   "source": [
    "### 4. Para los productos que contienen en su descripción la palabra \"stuff\",\n",
    "### calcular el peso total de su inventario agrupado por marca,\n",
    "### mostrar sólo la marca y el peso total de las 5 más pesadas"
   ]
  },
  {
   "cell_type": "markdown",
   "id": "2cf6a5d5",
   "metadata": {},
   "source": [
    "Asumo que la columna `\"weight_kg\"` es el peso unitario del producto en el inventario."
   ]
  },
  {
   "cell_type": "code",
   "execution_count": 45,
   "id": "a035eb4b",
   "metadata": {},
   "outputs": [
    {
     "data": {
      "application/vnd.microsoft.datawrangler.viewer.v0+json": {
       "columns": [
        {
         "name": "index",
         "rawType": "int64",
         "type": "integer"
        },
        {
         "name": "ID Producto",
         "rawType": "int64",
         "type": "integer"
        },
        {
         "name": "Marca",
         "rawType": "object",
         "type": "string"
        },
        {
         "name": "Marca",
         "rawType": "object",
         "type": "string"
        },
        {
         "name": "Peso Unitario (kg)",
         "rawType": "float64",
         "type": "float"
        },
        {
         "name": "Cantidad en Stock",
         "rawType": "float64",
         "type": "float"
        },
        {
         "name": "Peso Total (kg)",
         "rawType": "float64",
         "type": "float"
        }
       ],
       "ref": "0cf4c776-65ec-4ced-98f0-b2e2c21b7bf0",
       "rows": [
        [
         "775204",
         "775205",
         "Realigned 6thgeneration paradigm",
         "Godiva",
         "49.95",
         "995.0",
         "49700.25"
        ],
        [
         "896900",
         "896901",
         "Profit-focused modular structure",
         "Eventbrite",
         "49.44",
         "985.0",
         "48698.399999999994"
        ],
        [
         "981788",
         "981789",
         "Advanced bottom-line function",
         "KitchenAid",
         "48.71",
         "997.0",
         "48563.87"
        ],
        [
         "331550",
         "331551",
         "Distributed stable capacity",
         "Mattel",
         "49.82",
         "973.0",
         "48474.86"
        ],
        [
         "141981",
         "141982",
         "Realigned zero-defect budgetary management",
         "Disney",
         "48.3",
         "998.0",
         "48203.399999999994"
        ]
       ],
       "shape": {
        "columns": 6,
        "rows": 5
       }
      },
      "text/html": [
       "<div>\n",
       "<style scoped>\n",
       "    .dataframe tbody tr th:only-of-type {\n",
       "        vertical-align: middle;\n",
       "    }\n",
       "\n",
       "    .dataframe tbody tr th {\n",
       "        vertical-align: top;\n",
       "    }\n",
       "\n",
       "    .dataframe thead th {\n",
       "        text-align: right;\n",
       "    }\n",
       "</style>\n",
       "<table border=\"1\" class=\"dataframe\">\n",
       "  <thead>\n",
       "    <tr style=\"text-align: right;\">\n",
       "      <th></th>\n",
       "      <th>ID Producto</th>\n",
       "      <th>Marca</th>\n",
       "      <th>Marca</th>\n",
       "      <th>Peso Unitario (kg)</th>\n",
       "      <th>Cantidad en Stock</th>\n",
       "      <th>Peso Total (kg)</th>\n",
       "    </tr>\n",
       "  </thead>\n",
       "  <tbody>\n",
       "    <tr>\n",
       "      <th>775204</th>\n",
       "      <td>775205</td>\n",
       "      <td>Realigned 6thgeneration paradigm</td>\n",
       "      <td>Godiva</td>\n",
       "      <td>49.95</td>\n",
       "      <td>995.0</td>\n",
       "      <td>49700.25</td>\n",
       "    </tr>\n",
       "    <tr>\n",
       "      <th>896900</th>\n",
       "      <td>896901</td>\n",
       "      <td>Profit-focused modular structure</td>\n",
       "      <td>Eventbrite</td>\n",
       "      <td>49.44</td>\n",
       "      <td>985.0</td>\n",
       "      <td>48698.40</td>\n",
       "    </tr>\n",
       "    <tr>\n",
       "      <th>981788</th>\n",
       "      <td>981789</td>\n",
       "      <td>Advanced bottom-line function</td>\n",
       "      <td>KitchenAid</td>\n",
       "      <td>48.71</td>\n",
       "      <td>997.0</td>\n",
       "      <td>48563.87</td>\n",
       "    </tr>\n",
       "    <tr>\n",
       "      <th>331550</th>\n",
       "      <td>331551</td>\n",
       "      <td>Distributed stable capacity</td>\n",
       "      <td>Mattel</td>\n",
       "      <td>49.82</td>\n",
       "      <td>973.0</td>\n",
       "      <td>48474.86</td>\n",
       "    </tr>\n",
       "    <tr>\n",
       "      <th>141981</th>\n",
       "      <td>141982</td>\n",
       "      <td>Realigned zero-defect budgetary management</td>\n",
       "      <td>Disney</td>\n",
       "      <td>48.30</td>\n",
       "      <td>998.0</td>\n",
       "      <td>48203.40</td>\n",
       "    </tr>\n",
       "  </tbody>\n",
       "</table>\n",
       "</div>"
      ],
      "text/plain": [
       "        ID Producto                                       Marca       Marca  \\\n",
       "775204       775205            Realigned 6thgeneration paradigm      Godiva   \n",
       "896900       896901            Profit-focused modular structure  Eventbrite   \n",
       "981788       981789               Advanced bottom-line function  KitchenAid   \n",
       "331550       331551                 Distributed stable capacity      Mattel   \n",
       "141981       141982  Realigned zero-defect budgetary management      Disney   \n",
       "\n",
       "        Peso Unitario (kg)  Cantidad en Stock  Peso Total (kg)  \n",
       "775204               49.95              995.0         49700.25  \n",
       "896900               49.44              985.0         48698.40  \n",
       "981788               48.71              997.0         48563.87  \n",
       "331550               49.82              973.0         48474.86  \n",
       "141981               48.30              998.0         48203.40  "
      ]
     },
     "execution_count": 45,
     "metadata": {},
     "output_type": "execute_result"
    }
   ],
   "source": [
    "products[\"description\"] = products[\"description\"].fillna(\"\")\n",
    "stuff_products = products.loc[products[\"description\"].str.contains(\"STUFF\", case=False)][[\"product_id\", \"product_name\", \"brand\", \"weight_kg\", \"stock_quantity\"]]\n",
    "stuff_products[\"total_weight_kg\"] = stuff_products[\"weight_kg\"] * stuff_products[\"stock_quantity\"]\n",
    "stuff_products.columns = [\"ID Producto\", \"Marca\", \"Marca\", \"Peso Unitario (kg)\", \"Cantidad en Stock\", \"Peso Total (kg)\"]\n",
    "stuff_products.nlargest(5, \"Peso Total (kg)\")"
   ]
  },
  {
   "cell_type": "code",
   "execution_count": 46,
   "id": "e5675ad0",
   "metadata": {},
   "outputs": [
    {
     "data": {
      "application/vnd.microsoft.datawrangler.viewer.v0+json": {
       "columns": [
        {
         "name": "index",
         "rawType": "object",
         "type": "string"
        },
        {
         "name": "ID Producto",
         "rawType": "float64",
         "type": "float"
        },
        {
         "name": "Peso Unitario (kg)",
         "rawType": "float64",
         "type": "float"
        },
        {
         "name": "Cantidad en Stock",
         "rawType": "float64",
         "type": "float"
        },
        {
         "name": "Peso Total (kg)",
         "rawType": "float64",
         "type": "float"
        }
       ],
       "ref": "f68053ea-6689-4c94-a3e7-b9289a6e9df4",
       "rows": [
        [
         "count",
         "14605.0",
         "12338.0",
         "12418.0",
         "10499.0"
        ],
        [
         "mean",
         "500503.942759329",
         "25.000493597017343",
         "499.3828313738122",
         "12523.872084960472"
        ],
        [
         "std",
         "291045.42280830943",
         "14.42728750985828",
         "291.19716350630625",
         "11116.20239902517"
        ],
        [
         "min",
         "5.0",
         "0.1",
         "0.0",
         "0.0"
        ],
        [
         "25%",
         "246943.0",
         "12.42",
         "246.0",
         "3229.0299999999997"
        ],
        [
         "50%",
         "502773.0",
         "25.06",
         "500.0",
         "9332.4"
        ],
        [
         "75%",
         "752700.0",
         "37.3575",
         "752.0",
         "19411.205"
        ],
        [
         "max",
         "999984.0",
         "49.99",
         "1000.0",
         "49700.25"
        ]
       ],
       "shape": {
        "columns": 4,
        "rows": 8
       }
      },
      "text/html": [
       "<div>\n",
       "<style scoped>\n",
       "    .dataframe tbody tr th:only-of-type {\n",
       "        vertical-align: middle;\n",
       "    }\n",
       "\n",
       "    .dataframe tbody tr th {\n",
       "        vertical-align: top;\n",
       "    }\n",
       "\n",
       "    .dataframe thead th {\n",
       "        text-align: right;\n",
       "    }\n",
       "</style>\n",
       "<table border=\"1\" class=\"dataframe\">\n",
       "  <thead>\n",
       "    <tr style=\"text-align: right;\">\n",
       "      <th></th>\n",
       "      <th>ID Producto</th>\n",
       "      <th>Peso Unitario (kg)</th>\n",
       "      <th>Cantidad en Stock</th>\n",
       "      <th>Peso Total (kg)</th>\n",
       "    </tr>\n",
       "  </thead>\n",
       "  <tbody>\n",
       "    <tr>\n",
       "      <th>count</th>\n",
       "      <td>14605.000000</td>\n",
       "      <td>12338.000000</td>\n",
       "      <td>12418.000000</td>\n",
       "      <td>10499.000000</td>\n",
       "    </tr>\n",
       "    <tr>\n",
       "      <th>mean</th>\n",
       "      <td>500503.942759</td>\n",
       "      <td>25.000494</td>\n",
       "      <td>499.382831</td>\n",
       "      <td>12523.872085</td>\n",
       "    </tr>\n",
       "    <tr>\n",
       "      <th>std</th>\n",
       "      <td>291045.422808</td>\n",
       "      <td>14.427288</td>\n",
       "      <td>291.197164</td>\n",
       "      <td>11116.202399</td>\n",
       "    </tr>\n",
       "    <tr>\n",
       "      <th>min</th>\n",
       "      <td>5.000000</td>\n",
       "      <td>0.100000</td>\n",
       "      <td>0.000000</td>\n",
       "      <td>0.000000</td>\n",
       "    </tr>\n",
       "    <tr>\n",
       "      <th>25%</th>\n",
       "      <td>246943.000000</td>\n",
       "      <td>12.420000</td>\n",
       "      <td>246.000000</td>\n",
       "      <td>3229.030000</td>\n",
       "    </tr>\n",
       "    <tr>\n",
       "      <th>50%</th>\n",
       "      <td>502773.000000</td>\n",
       "      <td>25.060000</td>\n",
       "      <td>500.000000</td>\n",
       "      <td>9332.400000</td>\n",
       "    </tr>\n",
       "    <tr>\n",
       "      <th>75%</th>\n",
       "      <td>752700.000000</td>\n",
       "      <td>37.357500</td>\n",
       "      <td>752.000000</td>\n",
       "      <td>19411.205000</td>\n",
       "    </tr>\n",
       "    <tr>\n",
       "      <th>max</th>\n",
       "      <td>999984.000000</td>\n",
       "      <td>49.990000</td>\n",
       "      <td>1000.000000</td>\n",
       "      <td>49700.250000</td>\n",
       "    </tr>\n",
       "  </tbody>\n",
       "</table>\n",
       "</div>"
      ],
      "text/plain": [
       "         ID Producto  Peso Unitario (kg)  Cantidad en Stock  Peso Total (kg)\n",
       "count   14605.000000        12338.000000       12418.000000     10499.000000\n",
       "mean   500503.942759           25.000494         499.382831     12523.872085\n",
       "std    291045.422808           14.427288         291.197164     11116.202399\n",
       "min         5.000000            0.100000           0.000000         0.000000\n",
       "25%    246943.000000           12.420000         246.000000      3229.030000\n",
       "50%    502773.000000           25.060000         500.000000      9332.400000\n",
       "75%    752700.000000           37.357500         752.000000     19411.205000\n",
       "max    999984.000000           49.990000        1000.000000     49700.250000"
      ]
     },
     "execution_count": 46,
     "metadata": {},
     "output_type": "execute_result"
    }
   ],
   "source": [
    "stuff_products.describe()"
   ]
  },
  {
   "cell_type": "code",
   "execution_count": 47,
   "id": "3198a553",
   "metadata": {},
   "outputs": [
    {
     "data": {
      "image/png": "[encoded data removed]",
      "text/plain": [
       "<Figure size 1400x600 with 2 Axes>"
      ]
     },
     "metadata": {},
     "output_type": "display_data"
    }
   ],
   "source": [
    "plt.figure(figsize=(14, 6))\n",
    "\n",
    "plt.subplot(1, 2, 1)\n",
    "sns.histplot(stuff_products[\"Peso Unitario (kg)\"].dropna(), bins=20)\n",
    "plt.title(\"Distribución de Peso Unitario (kg)\")\n",
    "plt.ylabel(\"Cantidad de apariciones\")\n",
    "\n",
    "plt.subplot(1, 2, 2)\n",
    "sns.histplot(stuff_products[\"Cantidad en Stock\"].dropna(), bins=20, color=\"orange\")\n",
    "plt.title(\"Distribución de Cantidad en Stock\")\n",
    "plt.ylabel(\"Cantidad de apariciones\")\n",
    "\n",
    "plt.tight_layout()"
   ]
  }
 ],
 "metadata": {
  "kernelspec": {
   "display_name": "jupyter_env",
   "language": "python",
   "name": "python3"
  },
  "language_info": {
   "codemirror_mode": {
    "name": "ipython",
    "version": 3
   },
   "file_extension": ".py",
   "mimetype": "text/x-python",
   "name": "python",
   "nbconvert_exporter": "python",
   "pygments_lexer": "ipython3",
   "version": "3.11.13"
  }
 },
 "nbformat": 4,
 "nbformat_minor": 5
}
