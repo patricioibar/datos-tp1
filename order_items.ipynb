{
 "cells": [
  {
   "cell_type": "code",
   "execution_count": 17,
   "id": "371005ab",
   "metadata": {},
   "outputs": [],
   "source": [
    "import pandas as pd\n",
    "import seaborn as sns\n",
    "import matplotlib.pyplot as plt\n",
    "def normalize_string_column_values(df, column_name):\n",
    "    df[column_name] = df[column_name].str.upper()\n",
    "    df[column_name] = df[column_name].str.strip()\n",
    "    return df"
   ]
  },
  {
   "cell_type": "code",
   "execution_count": 18,
   "id": "7167265d",
   "metadata": {},
   "outputs": [],
   "source": [
    "items = pd.read_csv('data/order_items.csv')\n",
    "items = items.drop(columns=['Unnamed: 0'])\n",
    "items[\"discount_amount\"] = items[\"discount_amount\"].fillna(0)\n",
    "items[\"has_discount\"] = items[\"discount_amount\"] > 0\n",
    "products = pd.read_csv('data/products.csv')\n",
    "products = products.drop(columns=['created_at', 'Unnamed: 0'])\n",
    "categories = pd.read_csv('data/categories.csv')\n",
    "categories = categories.drop(columns=['created_at', 'Unnamed: 0'])"
   ]
  },
  {
   "cell_type": "code",
   "execution_count": 19,
   "id": "0d803960",
   "metadata": {},
   "outputs": [],
   "source": [
    "normalize_string_column_values(products, 'product_name')\n",
    "normalize_string_column_values(products, 'brand')\n",
    "normalize_string_column_values(categories, 'category_name')\n",
    "normalize_string_column_values(categories, 'parent_category')\n",
    "items = items.merge(products[[\"product_id\", \"product_name\", \"category_id\"]], on=\"product_id\", how=\"left\")\n",
    "items = items.merge(categories, on=\"category_id\", how=\"left\")"
   ]
  },
  {
   "cell_type": "code",
   "execution_count": 20,
   "id": "d64d1eb6",
   "metadata": {},
   "outputs": [
    {
     "data": {
      "application/vnd.microsoft.datawrangler.viewer.v0+json": {
       "columns": [
        {
         "name": "index",
         "rawType": "object",
         "type": "string"
        },
        {
         "name": "count",
         "rawType": "float64",
         "type": "float"
        }
       ],
       "ref": "404ea3b2-d305-4265-b2f2-8b780b692475",
       "rows": [
        [
         "count",
         "94118.0"
        ],
        [
         "mean",
         "3.030695509891838"
        ],
        [
         "std",
         "1.582374204007229"
        ],
        [
         "min",
         "1.0"
        ],
        [
         "25%",
         "2.0"
        ],
        [
         "50%",
         "3.0"
        ],
        [
         "75%",
         "4.0"
        ],
        [
         "max",
         "12.0"
        ]
       ],
       "shape": {
        "columns": 1,
        "rows": 8
       }
      },
      "text/plain": [
       "count    94118.000000\n",
       "mean         3.030696\n",
       "std          1.582374\n",
       "min          1.000000\n",
       "25%          2.000000\n",
       "50%          3.000000\n",
       "75%          4.000000\n",
       "max         12.000000\n",
       "Name: count, dtype: float64"
      ]
     },
     "execution_count": 20,
     "metadata": {},
     "output_type": "execute_result"
    }
   ],
   "source": [
    "items.product_id.value_counts().describe()"
   ]
  },
  {
   "cell_type": "code",
   "execution_count": null,
   "id": "8d0f6489",
   "metadata": {},
   "outputs": [
    {
     "data": {
      "application/vnd.microsoft.datawrangler.viewer.v0+json": {
       "columns": [
        {
         "name": "index",
         "rawType": "object",
         "type": "string"
        },
        {
         "name": "index",
         "rawType": "float64",
         "type": "float"
        },
        {
         "name": "Productos únicos",
         "rawType": "float64",
         "type": "float"
        },
        {
         "name": "Cantidad de ordenes",
         "rawType": "float64",
         "type": "float"
        },
        {
         "name": "Unidades totales ordenadas",
         "rawType": "float64",
         "type": "float"
        },
        {
         "name": "Promedio de unidades ordenadas",
         "rawType": "float64",
         "type": "float"
        }
       ],
       "ref": "c1adbf33-0b9a-44b8-86da-70c712d74136",
       "rows": [
        [
         "count",
         "152.0",
         "152.0",
         "152.0",
         "152.0",
         "152.0"
        ],
        [
         "mean",
         "75.5",
         "525.3157894736842",
         "1591.2631578947369",
         "1352.3618421052631",
         "5.5279579515743675"
        ],
        [
         "std",
         "44.02272140611028",
         "20.755090671364872",
         "75.94662964345468",
         "66.86722529835325",
         "0.08551024003679432"
        ],
        [
         "min",
         "0.0",
         "486.0",
         "1420.0",
         "1217.0",
         "5.3175487465181055"
        ],
        [
         "25%",
         "37.75",
         "511.75",
         "1538.25",
         "1310.25",
         "5.479567934152213"
        ],
        [
         "50%",
         "75.5",
         "523.0",
         "1589.5",
         "1351.0",
         "5.52906524678837"
        ],
        [
         "75%",
         "113.25",
         "538.0",
         "1636.25",
         "1391.0",
         "5.58306317880312"
        ],
        [
         "max",
         "151.0",
         "590.0",
         "1828.0",
         "1574.0",
         "5.778549382716049"
        ]
       ],
       "shape": {
        "columns": 5,
        "rows": 8
       }
      },
      "text/html": [
       "<div>\n",
       "<style scoped>\n",
       "    .dataframe tbody tr th:only-of-type {\n",
       "        vertical-align: middle;\n",
       "    }\n",
       "\n",
       "    .dataframe tbody tr th {\n",
       "        vertical-align: top;\n",
       "    }\n",
       "\n",
       "    .dataframe thead th {\n",
       "        text-align: right;\n",
       "    }\n",
       "</style>\n",
       "<table border=\"1\" class=\"dataframe\">\n",
       "  <thead>\n",
       "    <tr style=\"text-align: right;\">\n",
       "      <th></th>\n",
       "      <th>index</th>\n",
       "      <th>Productos únicos</th>\n",
       "      <th>Cantidad de ordenes</th>\n",
       "      <th>Unidades totales ordenadas</th>\n",
       "      <th>Promedio de unidades ordenadas</th>\n",
       "    </tr>\n",
       "  </thead>\n",
       "  <tbody>\n",
       "    <tr>\n",
       "      <th>count</th>\n",
       "      <td>152.000000</td>\n",
       "      <td>152.000000</td>\n",
       "      <td>152.000000</td>\n",
       "      <td>152.000000</td>\n",
       "      <td>152.000000</td>\n",
       "    </tr>\n",
       "    <tr>\n",
       "      <th>mean</th>\n",
       "      <td>75.500000</td>\n",
       "      <td>525.315789</td>\n",
       "      <td>1591.263158</td>\n",
       "      <td>1352.361842</td>\n",
       "      <td>5.527958</td>\n",
       "    </tr>\n",
       "    <tr>\n",
       "      <th>std</th>\n",
       "      <td>44.022721</td>\n",
       "      <td>20.755091</td>\n",
       "      <td>75.946630</td>\n",
       "      <td>66.867225</td>\n",
       "      <td>0.085510</td>\n",
       "    </tr>\n",
       "    <tr>\n",
       "      <th>min</th>\n",
       "      <td>0.000000</td>\n",
       "      <td>486.000000</td>\n",
       "      <td>1420.000000</td>\n",
       "      <td>1217.000000</td>\n",
       "      <td>5.317549</td>\n",
       "    </tr>\n",
       "    <tr>\n",
       "      <th>25%</th>\n",
       "      <td>37.750000</td>\n",
       "      <td>511.750000</td>\n",
       "      <td>1538.250000</td>\n",
       "      <td>1310.250000</td>\n",
       "      <td>5.479568</td>\n",
       "    </tr>\n",
       "    <tr>\n",
       "      <th>50%</th>\n",
       "      <td>75.500000</td>\n",
       "      <td>523.000000</td>\n",
       "      <td>1589.500000</td>\n",
       "      <td>1351.000000</td>\n",
       "      <td>5.529065</td>\n",
       "    </tr>\n",
       "    <tr>\n",
       "      <th>75%</th>\n",
       "      <td>113.250000</td>\n",
       "      <td>538.000000</td>\n",
       "      <td>1636.250000</td>\n",
       "      <td>1391.000000</td>\n",
       "      <td>5.583063</td>\n",
       "    </tr>\n",
       "    <tr>\n",
       "      <th>max</th>\n",
       "      <td>151.000000</td>\n",
       "      <td>590.000000</td>\n",
       "      <td>1828.000000</td>\n",
       "      <td>1574.000000</td>\n",
       "      <td>5.778549</td>\n",
       "    </tr>\n",
       "  </tbody>\n",
       "</table>\n",
       "</div>"
      ],
      "text/plain": [
       "            index  Productos únicos  Cantidad de ordenes  \\\n",
       "count  152.000000        152.000000           152.000000   \n",
       "mean    75.500000        525.315789          1591.263158   \n",
       "std     44.022721         20.755091            75.946630   \n",
       "min      0.000000        486.000000          1420.000000   \n",
       "25%     37.750000        511.750000          1538.250000   \n",
       "50%     75.500000        523.000000          1589.500000   \n",
       "75%    113.250000        538.000000          1636.250000   \n",
       "max    151.000000        590.000000          1828.000000   \n",
       "\n",
       "       Unidades totales ordenadas  Promedio de unidades ordenadas  \n",
       "count                  152.000000                      152.000000  \n",
       "mean                  1352.361842                        5.527958  \n",
       "std                     66.867225                        0.085510  \n",
       "min                   1217.000000                        5.317549  \n",
       "25%                   1310.250000                        5.479568  \n",
       "50%                   1351.000000                        5.529065  \n",
       "75%                   1391.000000                        5.583063  \n",
       "max                   1574.000000                        5.778549  "
      ]
     },
     "execution_count": 21,
     "metadata": {},
     "output_type": "execute_result"
    }
   ],
   "source": [
    "items_grouped = items.groupby([\"parent_category\", \"category_name\"]).agg({\n",
    "    \"product_id\": [\"nunique\", \"count\"],\n",
    "    \"quantity\": [\"count\", \"mean\"]\n",
    "}).reset_index()\n",
    "\n",
    "items_grouped.columns = [\n",
    "    'Categoría padre',\n",
    "    'Categoría',\n",
    "    'Productos únicos',\n",
    "    'Cantidad de ordenes',\n",
    "    'Unidades totales ordenadas',\n",
    "    'Promedio de unidades ordenadas'\n",
    "]\n",
    "\n",
    "items_grouped.nlargest(10, columns=\"Unidades totales ordenadas\")\n",
    "items_grouped.describe()\n"
   ]
  },
  {
   "cell_type": "code",
   "execution_count": 22,
   "id": "ad237d76",
   "metadata": {},
   "outputs": [
    {
     "data": {
      "application/vnd.microsoft.datawrangler.viewer.v0+json": {
       "columns": [
        {
         "name": "index",
         "rawType": "int64",
         "type": "integer"
        },
        {
         "name": "index",
         "rawType": "int64",
         "type": "integer"
        },
        {
         "name": "Categoría padre",
         "rawType": "object",
         "type": "string"
        },
        {
         "name": "Categoría",
         "rawType": "object",
         "type": "string"
        },
        {
         "name": "Productos únicos",
         "rawType": "int64",
         "type": "integer"
        },
        {
         "name": "Cantidad de ordenes",
         "rawType": "int64",
         "type": "integer"
        },
        {
         "name": "Unidades totales ordenadas",
         "rawType": "int64",
         "type": "integer"
        },
        {
         "name": "Promedio de unidades ordenadas",
         "rawType": "float64",
         "type": "float"
        }
       ],
       "ref": "f6413538-49da-4ce3-9f6c-10f00fe70d55",
       "rows": [
        [
         "0",
         "0",
         "ART & CRAFTS",
         "BEADING",
         "522",
         "1645",
         "1405",
         "5.616370106761566"
        ],
        [
         "1",
         "1",
         "ART & CRAFTS",
         "CANVAS & PAPER",
         "558",
         "1728",
         "1463",
         "5.435406698564593"
        ],
        [
         "2",
         "2",
         "ART & CRAFTS",
         "DRAWING SUPPLIES",
         "500",
         "1536",
         "1300",
         "5.564615384615385"
        ],
        [
         "3",
         "3",
         "ART & CRAFTS",
         "PAINTS",
         "544",
         "1661",
         "1436",
         "5.3175487465181055"
        ],
        [
         "4",
         "4",
         "ART & CRAFTS",
         "PAPER CRAFTS",
         "517",
         "1564",
         "1333",
         "5.558139534883721"
        ],
        [
         "5",
         "5",
         "AUTOMOTIVE",
         "CAR ACCESSORIES",
         "517",
         "1587",
         "1359",
         "5.504047093451067"
        ],
        [
         "6",
         "6",
         "AUTOMOTIVE",
         "CAR ELECTRONICS",
         "494",
         "1455",
         "1219",
         "5.501230516817063"
        ],
        [
         "7",
         "7",
         "AUTOMOTIVE",
         "TIRES",
         "510",
         "1544",
         "1322",
         "5.532526475037821"
        ],
        [
         "8",
         "8",
         "AUTOMOTIVE",
         "TOOLS",
         "496",
         "1450",
         "1241",
         "5.482675261885576"
        ],
        [
         "9",
         "9",
         "BABY & KIDS",
         "BABY CLOTHING",
         "488",
         "1446",
         "1236",
         "5.699838187702265"
        ],
        [
         "10",
         "10",
         "BABY & KIDS",
         "DIAPERS",
         "524",
         "1586",
         "1321",
         "5.675246025738077"
        ],
        [
         "11",
         "11",
         "BABY & KIDS",
         "SAFETY",
         "522",
         "1533",
         "1314",
         "5.484779299847793"
        ],
        [
         "12",
         "12",
         "BABY & KIDS",
         "TOYS",
         "500",
         "1470",
         "1263",
         "5.490102929532858"
        ],
        [
         "13",
         "13",
         "BABY & KIDS",
         "UNDEFINED",
         "541",
         "1665",
         "1424",
         "5.492275280898877"
        ],
        [
         "14",
         "14",
         "BOOKS",
         "CHILDREN'S BOOKS",
         "518",
         "1561",
         "1333",
         "5.480120030007502"
        ],
        [
         "15",
         "15",
         "BOOKS",
         "COMICS",
         "557",
         "1735",
         "1470",
         "5.531292517006802"
        ],
        [
         "16",
         "16",
         "BOOKS",
         "FICTION",
         "535",
         "1609",
         "1366",
         "5.51610541727672"
        ],
        [
         "17",
         "17",
         "BOOKS",
         "TEXTBOOKS",
         "535",
         "1628",
         "1392",
         "5.529454022988506"
        ],
        [
         "18",
         "18",
         "BOOKS",
         "UNDEFINED",
         "551",
         "1683",
         "1442",
         "5.515950069348127"
        ],
        [
         "19",
         "19",
         "CLOTHING",
         "CHILDREN'S CLOTHING",
         "532",
         "1618",
         "1354",
         "5.541358936484491"
        ],
        [
         "20",
         "20",
         "CLOTHING",
         "MEN'S CLOTHING",
         "554",
         "1689",
         "1439",
         "5.5427380125086865"
        ],
        [
         "21",
         "21",
         "CLOTHING",
         "OUTERWEAR",
         "486",
         "1432",
         "1224",
         "5.58578431372549"
        ],
        [
         "22",
         "22",
         "CLOTHING",
         "WOMEN'S CLOTHING",
         "524",
         "1583",
         "1318",
         "5.607738998482549"
        ],
        [
         "23",
         "23",
         "COLLECTIBLES",
         "ACTION FIGURES",
         "536",
         "1632",
         "1372",
         "5.62536443148688"
        ],
        [
         "24",
         "24",
         "COLLECTIBLES",
         "COINS",
         "525",
         "1642",
         "1359",
         "5.36644591611479"
        ],
        [
         "25",
         "25",
         "COLLECTIBLES",
         "COMICS",
         "537",
         "1613",
         "1359",
         "5.569536423841059"
        ],
        [
         "26",
         "26",
         "COLLECTIBLES",
         "FIGURINES",
         "555",
         "1699",
         "1449",
         "5.557625948930297"
        ],
        [
         "27",
         "27",
         "COLLECTIBLES",
         "MEMORABILIA",
         "511",
         "1496",
         "1273",
         "5.5781618224666145"
        ],
        [
         "28",
         "28",
         "ELECTRONICS",
         "HEADPHONES",
         "523",
         "1587",
         "1360",
         "5.563970588235295"
        ],
        [
         "29",
         "29",
         "ELECTRONICS",
         "LAPTOPS",
         "525",
         "1603",
         "1355",
         "5.608856088560886"
        ],
        [
         "30",
         "30",
         "ELECTRONICS",
         "SMARTPHONES",
         "540",
         "1640",
         "1382",
         "5.506512301013025"
        ],
        [
         "31",
         "31",
         "ELECTRONICS",
         "TELEVISIONS",
         "521",
         "1553",
         "1319",
         "5.498104624715694"
        ],
        [
         "32",
         "32",
         "FOOD & BEVERAGES",
         "BAKING",
         "495",
         "1443",
         "1228",
         "5.577361563517916"
        ],
        [
         "33",
         "33",
         "FOOD & BEVERAGES",
         "CONDIMENTS",
         "491",
         "1507",
         "1297",
         "5.4811102544333075"
        ],
        [
         "34",
         "34",
         "FOOD & BEVERAGES",
         "GOURMET",
         "519",
         "1551",
         "1316",
         "5.572948328267477"
        ],
        [
         "35",
         "35",
         "FOOD & BEVERAGES",
         "ORGANIC FOOD",
         "550",
         "1694",
         "1443",
         "5.562716562716563"
        ],
        [
         "36",
         "36",
         "FURNITURE",
         "BEDS",
         "520",
         "1604",
         "1381",
         "5.52860246198407"
        ],
        [
         "37",
         "37",
         "FURNITURE",
         "CABINETS",
         "514",
         "1536",
         "1284",
         "5.586448598130841"
        ],
        [
         "38",
         "38",
         "FURNITURE",
         "CHAIRS",
         "512",
         "1574",
         "1340",
         "5.353731343283582"
        ],
        [
         "39",
         "39",
         "FURNITURE",
         "LIVING ROOM",
         "541",
         "1656",
         "1405",
         "5.577224199288256"
        ],
        [
         "40",
         "40",
         "FURNITURE",
         "OFFICE",
         "522",
         "1606",
         "1359",
         "5.5342163355408385"
        ],
        [
         "41",
         "41",
         "FURNITURE",
         "OUTDOOR",
         "568",
         "1721",
         "1474",
         "5.4945725915875165"
        ],
        [
         "42",
         "42",
         "GAMES & VIRTUAL GOODS",
         "DLC",
         "523",
         "1590",
         "1343",
         "5.356664184661207"
        ],
        [
         "43",
         "43",
         "GAMES & VIRTUAL GOODS",
         "E-BOOKS",
         "522",
         "1587",
         "1358",
         "5.542709867452135"
        ],
        [
         "44",
         "44",
         "GAMES & VIRTUAL GOODS",
         "GAME ACCESSORIES",
         "518",
         "1617",
         "1389",
         "5.447804175665946"
        ],
        [
         "45",
         "45",
         "GAMES & VIRTUAL GOODS",
         "IN-GAME CURRENCY",
         "535",
         "1622",
         "1386",
         "5.448773448773449"
        ],
        [
         "46",
         "46",
         "GAMES & VIRTUAL GOODS",
         "SOFTWARE",
         "567",
         "1690",
         "1454",
         "5.486244841815681"
        ],
        [
         "47",
         "47",
         "GAMES & VIRTUAL GOODS",
         "VIDEO GAMES",
         "535",
         "1591",
         "1352",
         "5.5576923076923075"
        ],
        [
         "48",
         "48",
         "GARDEN & OUTDOOR",
         "BBQ GRILLS",
         "535",
         "1582",
         "1340",
         "5.507462686567164"
        ],
        [
         "49",
         "49",
         "GARDEN & OUTDOOR",
         "GARDENING TOOLS",
         "494",
         "1488",
         "1268",
         "5.61198738170347"
        ]
       ],
       "shape": {
        "columns": 7,
        "rows": 152
       }
      },
      "text/html": [
       "<div>\n",
       "<style scoped>\n",
       "    .dataframe tbody tr th:only-of-type {\n",
       "        vertical-align: middle;\n",
       "    }\n",
       "\n",
       "    .dataframe tbody tr th {\n",
       "        vertical-align: top;\n",
       "    }\n",
       "\n",
       "    .dataframe thead th {\n",
       "        text-align: right;\n",
       "    }\n",
       "</style>\n",
       "<table border=\"1\" class=\"dataframe\">\n",
       "  <thead>\n",
       "    <tr style=\"text-align: right;\">\n",
       "      <th></th>\n",
       "      <th>index</th>\n",
       "      <th>Categoría padre</th>\n",
       "      <th>Categoría</th>\n",
       "      <th>Productos únicos</th>\n",
       "      <th>Cantidad de ordenes</th>\n",
       "      <th>Unidades totales ordenadas</th>\n",
       "      <th>Promedio de unidades ordenadas</th>\n",
       "    </tr>\n",
       "  </thead>\n",
       "  <tbody>\n",
       "    <tr>\n",
       "      <th>0</th>\n",
       "      <td>0</td>\n",
       "      <td>ART &amp; CRAFTS</td>\n",
       "      <td>BEADING</td>\n",
       "      <td>522</td>\n",
       "      <td>1645</td>\n",
       "      <td>1405</td>\n",
       "      <td>5.616370</td>\n",
       "    </tr>\n",
       "    <tr>\n",
       "      <th>1</th>\n",
       "      <td>1</td>\n",
       "      <td>ART &amp; CRAFTS</td>\n",
       "      <td>CANVAS &amp; PAPER</td>\n",
       "      <td>558</td>\n",
       "      <td>1728</td>\n",
       "      <td>1463</td>\n",
       "      <td>5.435407</td>\n",
       "    </tr>\n",
       "    <tr>\n",
       "      <th>2</th>\n",
       "      <td>2</td>\n",
       "      <td>ART &amp; CRAFTS</td>\n",
       "      <td>DRAWING SUPPLIES</td>\n",
       "      <td>500</td>\n",
       "      <td>1536</td>\n",
       "      <td>1300</td>\n",
       "      <td>5.564615</td>\n",
       "    </tr>\n",
       "    <tr>\n",
       "      <th>3</th>\n",
       "      <td>3</td>\n",
       "      <td>ART &amp; CRAFTS</td>\n",
       "      <td>PAINTS</td>\n",
       "      <td>544</td>\n",
       "      <td>1661</td>\n",
       "      <td>1436</td>\n",
       "      <td>5.317549</td>\n",
       "    </tr>\n",
       "    <tr>\n",
       "      <th>4</th>\n",
       "      <td>4</td>\n",
       "      <td>ART &amp; CRAFTS</td>\n",
       "      <td>PAPER CRAFTS</td>\n",
       "      <td>517</td>\n",
       "      <td>1564</td>\n",
       "      <td>1333</td>\n",
       "      <td>5.558140</td>\n",
       "    </tr>\n",
       "    <tr>\n",
       "      <th>...</th>\n",
       "      <td>...</td>\n",
       "      <td>...</td>\n",
       "      <td>...</td>\n",
       "      <td>...</td>\n",
       "      <td>...</td>\n",
       "      <td>...</td>\n",
       "      <td>...</td>\n",
       "    </tr>\n",
       "    <tr>\n",
       "      <th>147</th>\n",
       "      <td>147</td>\n",
       "      <td>TRAVEL</td>\n",
       "      <td>TRAVEL ACCESSORIES</td>\n",
       "      <td>508</td>\n",
       "      <td>1563</td>\n",
       "      <td>1313</td>\n",
       "      <td>5.475248</td>\n",
       "    </tr>\n",
       "    <tr>\n",
       "      <th>148</th>\n",
       "      <td>148</td>\n",
       "      <td>TRAVEL</td>\n",
       "      <td>TRAVEL CLOTHING</td>\n",
       "      <td>488</td>\n",
       "      <td>1420</td>\n",
       "      <td>1217</td>\n",
       "      <td>5.514380</td>\n",
       "    </tr>\n",
       "    <tr>\n",
       "      <th>149</th>\n",
       "      <td>149</td>\n",
       "      <td>UNDEFINED</td>\n",
       "      <td>NON-FICTION</td>\n",
       "      <td>510</td>\n",
       "      <td>1512</td>\n",
       "      <td>1273</td>\n",
       "      <td>5.643362</td>\n",
       "    </tr>\n",
       "    <tr>\n",
       "      <th>150</th>\n",
       "      <td>150</td>\n",
       "      <td>UNDEFINED</td>\n",
       "      <td>SNACKS</td>\n",
       "      <td>539</td>\n",
       "      <td>1627</td>\n",
       "      <td>1385</td>\n",
       "      <td>5.415884</td>\n",
       "    </tr>\n",
       "    <tr>\n",
       "      <th>151</th>\n",
       "      <td>151</td>\n",
       "      <td>UNDEFINED</td>\n",
       "      <td>UNDEFINED</td>\n",
       "      <td>502</td>\n",
       "      <td>1479</td>\n",
       "      <td>1274</td>\n",
       "      <td>5.447410</td>\n",
       "    </tr>\n",
       "  </tbody>\n",
       "</table>\n",
       "<p>152 rows × 7 columns</p>\n",
       "</div>"
      ],
      "text/plain": [
       "     index Categoría padre           Categoría  Productos únicos  \\\n",
       "0        0    ART & CRAFTS             BEADING               522   \n",
       "1        1    ART & CRAFTS      CANVAS & PAPER               558   \n",
       "2        2    ART & CRAFTS    DRAWING SUPPLIES               500   \n",
       "3        3    ART & CRAFTS              PAINTS               544   \n",
       "4        4    ART & CRAFTS        PAPER CRAFTS               517   \n",
       "..     ...             ...                 ...               ...   \n",
       "147    147          TRAVEL  TRAVEL ACCESSORIES               508   \n",
       "148    148          TRAVEL     TRAVEL CLOTHING               488   \n",
       "149    149       UNDEFINED         NON-FICTION               510   \n",
       "150    150       UNDEFINED              SNACKS               539   \n",
       "151    151       UNDEFINED           UNDEFINED               502   \n",
       "\n",
       "     Cantidad de ordenes  Unidades totales ordenadas  \\\n",
       "0                   1645                        1405   \n",
       "1                   1728                        1463   \n",
       "2                   1536                        1300   \n",
       "3                   1661                        1436   \n",
       "4                   1564                        1333   \n",
       "..                   ...                         ...   \n",
       "147                 1563                        1313   \n",
       "148                 1420                        1217   \n",
       "149                 1512                        1273   \n",
       "150                 1627                        1385   \n",
       "151                 1479                        1274   \n",
       "\n",
       "     Promedio de unidades ordenadas  \n",
       "0                          5.616370  \n",
       "1                          5.435407  \n",
       "2                          5.564615  \n",
       "3                          5.317549  \n",
       "4                          5.558140  \n",
       "..                              ...  \n",
       "147                        5.475248  \n",
       "148                        5.514380  \n",
       "149                        5.643362  \n",
       "150                        5.415884  \n",
       "151                        5.447410  \n",
       "\n",
       "[152 rows x 7 columns]"
      ]
     },
     "execution_count": 22,
     "metadata": {},
     "output_type": "execute_result"
    }
   ],
   "source": [
    "items_grouped"
   ]
  },
  {
   "cell_type": "code",
   "execution_count": 29,
   "id": "550c2fb6",
   "metadata": {},
   "outputs": [
    {
     "data": {
      "application/vnd.microsoft.datawrangler.viewer.v0+json": {
       "columns": [
        {
         "name": "index",
         "rawType": "int64",
         "type": "integer"
        },
        {
         "name": "Categoría padre",
         "rawType": "object",
         "type": "string"
        },
        {
         "name": "Productos únicos",
         "rawType": "int64",
         "type": "integer"
        },
        {
         "name": "Cantidad de ordenes",
         "rawType": "int64",
         "type": "integer"
        },
        {
         "name": "Unidades totales ordenadas",
         "rawType": "int64",
         "type": "integer"
        }
       ],
       "ref": "fec5dea0-c748-476f-8981-ea05af650bec",
       "rows": [
        [
         "0",
         "ART & CRAFTS",
         "2641",
         "8134",
         "6937"
        ],
        [
         "1",
         "AUTOMOTIVE",
         "2017",
         "6036",
         "5141"
        ],
        [
         "2",
         "BABY & KIDS",
         "2575",
         "7700",
         "6558"
        ],
        [
         "3",
         "BOOKS",
         "2696",
         "8216",
         "7003"
        ],
        [
         "4",
         "CLOTHING",
         "2096",
         "6322",
         "5335"
        ],
        [
         "5",
         "COLLECTIBLES",
         "2664",
         "8082",
         "6812"
        ],
        [
         "6",
         "ELECTRONICS",
         "2109",
         "6383",
         "5416"
        ],
        [
         "7",
         "FOOD & BEVERAGES",
         "2055",
         "6195",
         "5284"
        ],
        [
         "8",
         "FURNITURE",
         "3177",
         "9697",
         "8243"
        ],
        [
         "9",
         "GAMES & VIRTUAL GOODS",
         "3200",
         "9697",
         "8282"
        ],
        [
         "10",
         "GARDEN & OUTDOOR",
         "3086",
         "9373",
         "7943"
        ],
        [
         "11",
         "GROCERY & GOURMET FOOD",
         "2631",
         "7856",
         "6720"
        ],
        [
         "12",
         "HANDMADE",
         "2692",
         "8119",
         "6881"
        ],
        [
         "13",
         "HEALTH & BEAUTY",
         "2145",
         "6556",
         "5575"
        ],
        [
         "14",
         "HOME & GARDEN",
         "2032",
         "6055",
         "5155"
        ],
        [
         "15",
         "INDUSTRIAL & SCIENTIFIC",
         "3155",
         "9727",
         "8242"
        ],
        [
         "16",
         "JEWELRY",
         "2730",
         "8268",
         "7066"
        ],
        [
         "17",
         "KITCHEN & DINING",
         "3736",
         "11313",
         "9636"
        ],
        [
         "18",
         "MUSIC & MOVIES",
         "3139",
         "9302",
         "7963"
        ],
        [
         "19",
         "MUSICAL INSTRUMENTS",
         "2553",
         "7740",
         "6520"
        ],
        [
         "20",
         "OFFICE SUPPLIES",
         "2693",
         "8135",
         "6926"
        ],
        [
         "21",
         "PET CARE",
         "2000",
         "6125",
         "5178"
        ],
        [
         "22",
         "PET SUPPLIES",
         "1626",
         "4794",
         "4081"
        ],
        [
         "23",
         "SHOES",
         "3209",
         "9878",
         "8416"
        ],
        [
         "24",
         "SPORTS & OUTDOORS",
         "2604",
         "7950",
         "6751"
        ],
        [
         "25",
         "STATIONERY",
         "2683",
         "8222",
         "6981"
        ],
        [
         "26",
         "TICKETS & EXPERIENCES",
         "2557",
         "7718",
         "6559"
        ],
        [
         "27",
         "TOOLS & HARDWARE",
         "2615",
         "8051",
         "6826"
        ],
        [
         "28",
         "TOYS & GAMES",
         "2038",
         "6182",
         "5190"
        ],
        [
         "29",
         "TRAVEL",
         "3143",
         "9428",
         "8007"
        ],
        [
         "30",
         "UNDEFINED",
         "1551",
         "4618",
         "3932"
        ]
       ],
       "shape": {
        "columns": 4,
        "rows": 31
       }
      },
      "text/html": [
       "<div>\n",
       "<style scoped>\n",
       "    .dataframe tbody tr th:only-of-type {\n",
       "        vertical-align: middle;\n",
       "    }\n",
       "\n",
       "    .dataframe tbody tr th {\n",
       "        vertical-align: top;\n",
       "    }\n",
       "\n",
       "    .dataframe thead th {\n",
       "        text-align: right;\n",
       "    }\n",
       "</style>\n",
       "<table border=\"1\" class=\"dataframe\">\n",
       "  <thead>\n",
       "    <tr style=\"text-align: right;\">\n",
       "      <th></th>\n",
       "      <th>Categoría padre</th>\n",
       "      <th>Productos únicos</th>\n",
       "      <th>Cantidad de ordenes</th>\n",
       "      <th>Unidades totales ordenadas</th>\n",
       "    </tr>\n",
       "  </thead>\n",
       "  <tbody>\n",
       "    <tr>\n",
       "      <th>0</th>\n",
       "      <td>ART &amp; CRAFTS</td>\n",
       "      <td>2641</td>\n",
       "      <td>8134</td>\n",
       "      <td>6937</td>\n",
       "    </tr>\n",
       "    <tr>\n",
       "      <th>1</th>\n",
       "      <td>AUTOMOTIVE</td>\n",
       "      <td>2017</td>\n",
       "      <td>6036</td>\n",
       "      <td>5141</td>\n",
       "    </tr>\n",
       "    <tr>\n",
       "      <th>2</th>\n",
       "      <td>BABY &amp; KIDS</td>\n",
       "      <td>2575</td>\n",
       "      <td>7700</td>\n",
       "      <td>6558</td>\n",
       "    </tr>\n",
       "    <tr>\n",
       "      <th>3</th>\n",
       "      <td>BOOKS</td>\n",
       "      <td>2696</td>\n",
       "      <td>8216</td>\n",
       "      <td>7003</td>\n",
       "    </tr>\n",
       "    <tr>\n",
       "      <th>4</th>\n",
       "      <td>CLOTHING</td>\n",
       "      <td>2096</td>\n",
       "      <td>6322</td>\n",
       "      <td>5335</td>\n",
       "    </tr>\n",
       "    <tr>\n",
       "      <th>5</th>\n",
       "      <td>COLLECTIBLES</td>\n",
       "      <td>2664</td>\n",
       "      <td>8082</td>\n",
       "      <td>6812</td>\n",
       "    </tr>\n",
       "    <tr>\n",
       "      <th>6</th>\n",
       "      <td>ELECTRONICS</td>\n",
       "      <td>2109</td>\n",
       "      <td>6383</td>\n",
       "      <td>5416</td>\n",
       "    </tr>\n",
       "    <tr>\n",
       "      <th>7</th>\n",
       "      <td>FOOD &amp; BEVERAGES</td>\n",
       "      <td>2055</td>\n",
       "      <td>6195</td>\n",
       "      <td>5284</td>\n",
       "    </tr>\n",
       "    <tr>\n",
       "      <th>8</th>\n",
       "      <td>FURNITURE</td>\n",
       "      <td>3177</td>\n",
       "      <td>9697</td>\n",
       "      <td>8243</td>\n",
       "    </tr>\n",
       "    <tr>\n",
       "      <th>9</th>\n",
       "      <td>GAMES &amp; VIRTUAL GOODS</td>\n",
       "      <td>3200</td>\n",
       "      <td>9697</td>\n",
       "      <td>8282</td>\n",
       "    </tr>\n",
       "    <tr>\n",
       "      <th>10</th>\n",
       "      <td>GARDEN &amp; OUTDOOR</td>\n",
       "      <td>3086</td>\n",
       "      <td>9373</td>\n",
       "      <td>7943</td>\n",
       "    </tr>\n",
       "    <tr>\n",
       "      <th>11</th>\n",
       "      <td>GROCERY &amp; GOURMET FOOD</td>\n",
       "      <td>2631</td>\n",
       "      <td>7856</td>\n",
       "      <td>6720</td>\n",
       "    </tr>\n",
       "    <tr>\n",
       "      <th>12</th>\n",
       "      <td>HANDMADE</td>\n",
       "      <td>2692</td>\n",
       "      <td>8119</td>\n",
       "      <td>6881</td>\n",
       "    </tr>\n",
       "    <tr>\n",
       "      <th>13</th>\n",
       "      <td>HEALTH &amp; BEAUTY</td>\n",
       "      <td>2145</td>\n",
       "      <td>6556</td>\n",
       "      <td>5575</td>\n",
       "    </tr>\n",
       "    <tr>\n",
       "      <th>14</th>\n",
       "      <td>HOME &amp; GARDEN</td>\n",
       "      <td>2032</td>\n",
       "      <td>6055</td>\n",
       "      <td>5155</td>\n",
       "    </tr>\n",
       "    <tr>\n",
       "      <th>15</th>\n",
       "      <td>INDUSTRIAL &amp; SCIENTIFIC</td>\n",
       "      <td>3155</td>\n",
       "      <td>9727</td>\n",
       "      <td>8242</td>\n",
       "    </tr>\n",
       "    <tr>\n",
       "      <th>16</th>\n",
       "      <td>JEWELRY</td>\n",
       "      <td>2730</td>\n",
       "      <td>8268</td>\n",
       "      <td>7066</td>\n",
       "    </tr>\n",
       "    <tr>\n",
       "      <th>17</th>\n",
       "      <td>KITCHEN &amp; DINING</td>\n",
       "      <td>3736</td>\n",
       "      <td>11313</td>\n",
       "      <td>9636</td>\n",
       "    </tr>\n",
       "    <tr>\n",
       "      <th>18</th>\n",
       "      <td>MUSIC &amp; MOVIES</td>\n",
       "      <td>3139</td>\n",
       "      <td>9302</td>\n",
       "      <td>7963</td>\n",
       "    </tr>\n",
       "    <tr>\n",
       "      <th>19</th>\n",
       "      <td>MUSICAL INSTRUMENTS</td>\n",
       "      <td>2553</td>\n",
       "      <td>7740</td>\n",
       "      <td>6520</td>\n",
       "    </tr>\n",
       "    <tr>\n",
       "      <th>20</th>\n",
       "      <td>OFFICE SUPPLIES</td>\n",
       "      <td>2693</td>\n",
       "      <td>8135</td>\n",
       "      <td>6926</td>\n",
       "    </tr>\n",
       "    <tr>\n",
       "      <th>21</th>\n",
       "      <td>PET CARE</td>\n",
       "      <td>2000</td>\n",
       "      <td>6125</td>\n",
       "      <td>5178</td>\n",
       "    </tr>\n",
       "    <tr>\n",
       "      <th>22</th>\n",
       "      <td>PET SUPPLIES</td>\n",
       "      <td>1626</td>\n",
       "      <td>4794</td>\n",
       "      <td>4081</td>\n",
       "    </tr>\n",
       "    <tr>\n",
       "      <th>23</th>\n",
       "      <td>SHOES</td>\n",
       "      <td>3209</td>\n",
       "      <td>9878</td>\n",
       "      <td>8416</td>\n",
       "    </tr>\n",
       "    <tr>\n",
       "      <th>24</th>\n",
       "      <td>SPORTS &amp; OUTDOORS</td>\n",
       "      <td>2604</td>\n",
       "      <td>7950</td>\n",
       "      <td>6751</td>\n",
       "    </tr>\n",
       "    <tr>\n",
       "      <th>25</th>\n",
       "      <td>STATIONERY</td>\n",
       "      <td>2683</td>\n",
       "      <td>8222</td>\n",
       "      <td>6981</td>\n",
       "    </tr>\n",
       "    <tr>\n",
       "      <th>26</th>\n",
       "      <td>TICKETS &amp; EXPERIENCES</td>\n",
       "      <td>2557</td>\n",
       "      <td>7718</td>\n",
       "      <td>6559</td>\n",
       "    </tr>\n",
       "    <tr>\n",
       "      <th>27</th>\n",
       "      <td>TOOLS &amp; HARDWARE</td>\n",
       "      <td>2615</td>\n",
       "      <td>8051</td>\n",
       "      <td>6826</td>\n",
       "    </tr>\n",
       "    <tr>\n",
       "      <th>28</th>\n",
       "      <td>TOYS &amp; GAMES</td>\n",
       "      <td>2038</td>\n",
       "      <td>6182</td>\n",
       "      <td>5190</td>\n",
       "    </tr>\n",
       "    <tr>\n",
       "      <th>29</th>\n",
       "      <td>TRAVEL</td>\n",
       "      <td>3143</td>\n",
       "      <td>9428</td>\n",
       "      <td>8007</td>\n",
       "    </tr>\n",
       "    <tr>\n",
       "      <th>30</th>\n",
       "      <td>UNDEFINED</td>\n",
       "      <td>1551</td>\n",
       "      <td>4618</td>\n",
       "      <td>3932</td>\n",
       "    </tr>\n",
       "  </tbody>\n",
       "</table>\n",
       "</div>"
      ],
      "text/plain": [
       "            Categoría padre  Productos únicos  Cantidad de ordenes  \\\n",
       "0              ART & CRAFTS              2641                 8134   \n",
       "1                AUTOMOTIVE              2017                 6036   \n",
       "2               BABY & KIDS              2575                 7700   \n",
       "3                     BOOKS              2696                 8216   \n",
       "4                  CLOTHING              2096                 6322   \n",
       "5              COLLECTIBLES              2664                 8082   \n",
       "6               ELECTRONICS              2109                 6383   \n",
       "7          FOOD & BEVERAGES              2055                 6195   \n",
       "8                 FURNITURE              3177                 9697   \n",
       "9     GAMES & VIRTUAL GOODS              3200                 9697   \n",
       "10         GARDEN & OUTDOOR              3086                 9373   \n",
       "11   GROCERY & GOURMET FOOD              2631                 7856   \n",
       "12                 HANDMADE              2692                 8119   \n",
       "13          HEALTH & BEAUTY              2145                 6556   \n",
       "14            HOME & GARDEN              2032                 6055   \n",
       "15  INDUSTRIAL & SCIENTIFIC              3155                 9727   \n",
       "16                  JEWELRY              2730                 8268   \n",
       "17         KITCHEN & DINING              3736                11313   \n",
       "18           MUSIC & MOVIES              3139                 9302   \n",
       "19      MUSICAL INSTRUMENTS              2553                 7740   \n",
       "20          OFFICE SUPPLIES              2693                 8135   \n",
       "21                 PET CARE              2000                 6125   \n",
       "22             PET SUPPLIES              1626                 4794   \n",
       "23                    SHOES              3209                 9878   \n",
       "24        SPORTS & OUTDOORS              2604                 7950   \n",
       "25               STATIONERY              2683                 8222   \n",
       "26    TICKETS & EXPERIENCES              2557                 7718   \n",
       "27         TOOLS & HARDWARE              2615                 8051   \n",
       "28             TOYS & GAMES              2038                 6182   \n",
       "29                   TRAVEL              3143                 9428   \n",
       "30                UNDEFINED              1551                 4618   \n",
       "\n",
       "    Unidades totales ordenadas  \n",
       "0                         6937  \n",
       "1                         5141  \n",
       "2                         6558  \n",
       "3                         7003  \n",
       "4                         5335  \n",
       "5                         6812  \n",
       "6                         5416  \n",
       "7                         5284  \n",
       "8                         8243  \n",
       "9                         8282  \n",
       "10                        7943  \n",
       "11                        6720  \n",
       "12                        6881  \n",
       "13                        5575  \n",
       "14                        5155  \n",
       "15                        8242  \n",
       "16                        7066  \n",
       "17                        9636  \n",
       "18                        7963  \n",
       "19                        6520  \n",
       "20                        6926  \n",
       "21                        5178  \n",
       "22                        4081  \n",
       "23                        8416  \n",
       "24                        6751  \n",
       "25                        6981  \n",
       "26                        6559  \n",
       "27                        6826  \n",
       "28                        5190  \n",
       "29                        8007  \n",
       "30                        3932  "
      ]
     },
     "execution_count": 29,
     "metadata": {},
     "output_type": "execute_result"
    }
   ],
   "source": [
    "data = items_grouped.groupby(\"Categoría padre\").agg({\n",
    "    \"Productos únicos\": \"sum\",\n",
    "    \"Cantidad de ordenes\": \"sum\",\n",
    "    \"Unidades totales ordenadas\": \"sum\"\n",
    "}).reset_index()\n",
    "data"
   ]
  },
  {
   "cell_type": "code",
   "execution_count": 34,
   "id": "6972f871",
   "metadata": {},
   "outputs": [
    {
     "data": {
      "text/plain": [
       "Text(0.5, 1.0, 'Cantidad de ordenes por categoría padre')"
      ]
     },
     "execution_count": 34,
     "metadata": {},
     "output_type": "execute_result"
    },
    {
     "data": {
      "image/png": "[encoded data removed]",
      "text/plain": [
       "<Figure size 1000x700 with 1 Axes>"
      ]
     },
     "metadata": {},
     "output_type": "display_data"
    }
   ],
   "source": [
    "plt.figure(figsize=[10, 7])\n",
    "sns.barplot(\n",
    "    data=data[[\"Categoría padre\",\"Cantidad de ordenes\"]]\\\n",
    "        .sort_values(\"Cantidad de ordenes\", ascending=False),\n",
    "    y=\"Categoría padre\", x=\"Cantidad de ordenes\",\n",
    ")\n",
    "plt.title(\"Cantidad de ordenes por categoría padre\")"
   ]
  },
  {
   "cell_type": "code",
   "execution_count": 35,
   "id": "e1a70ad5",
   "metadata": {},
   "outputs": [
    {
     "data": {
      "text/plain": [
       "Text(0.5, 1.0, 'Unidades ordenadas por categoría padre')"
      ]
     },
     "execution_count": 35,
     "metadata": {},
     "output_type": "execute_result"
    },
    {
     "data": {
      "image/png": "[encoded data removed]",
      "text/plain": [
       "<Figure size 1000x700 with 1 Axes>"
      ]
     },
     "metadata": {},
     "output_type": "display_data"
    }
   ],
   "source": [
    "plt.figure(figsize=[10, 7])\n",
    "sns.barplot(\n",
    "    data=data[[\"Categoría padre\",\"Unidades totales ordenadas\"]]\\\n",
    "        .sort_values(\"Unidades totales ordenadas\", ascending=False),\n",
    "    y=\"Categoría padre\", x=\"Unidades totales ordenadas\",\n",
    ")\n",
    "plt.title(\"Unidades ordenadas por categoría padre\")"
   ]
  },
  {
   "cell_type": "code",
   "execution_count": 26,
   "id": "798a2fdf",
   "metadata": {},
   "outputs": [
    {
     "data": {
      "image/png": "[encoded data removed]",
      "text/plain": [
       "<Figure size 1400x600 with 2 Axes>"
      ]
     },
     "metadata": {},
     "output_type": "display_data"
    }
   ],
   "source": [
    "plt.figure(figsize=(14, 6))\n",
    "\n",
    "plt.subplot(1, 2, 1)\n",
    "sns.boxplot(y=items_grouped[\"Unidades totales ordenadas\"].dropna())\n",
    "plt.title(\"Boxplot de Unidades totales ordenadas\")\n",
    "plt.ylabel(\"Unidades totales ordenadas\")\n",
    "\n",
    "plt.subplot(1, 2, 2)\n",
    "sns.boxplot(y=items_grouped[\"Cantidad de ordenes\"].dropna(), color=\"orange\")\n",
    "plt.title(\"Boxplot de Cantidad de ordenes\")\n",
    "plt.ylabel(\"Cantidad de ordenes\")\n",
    "\n",
    "plt.tight_layout()"
   ]
  }
 ],
 "metadata": {
  "kernelspec": {
   "display_name": "jupyter_env",
   "language": "python",
   "name": "python3"
  },
  "language_info": {
   "codemirror_mode": {
    "name": "ipython",
    "version": 3
   },
   "file_extension": ".py",
   "mimetype": "text/x-python",
   "name": "python",
   "nbconvert_exporter": "python",
   "pygments_lexer": "ipython3",
   "version": "3.11.13"
  }
 },
 "nbformat": 4,
 "nbformat_minor": 5
}
