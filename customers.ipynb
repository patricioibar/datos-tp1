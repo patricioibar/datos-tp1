{
 "cells": [
  {
   "cell_type": "code",
   "execution_count": null,
   "id": "baa21677",
   "metadata": {},
   "outputs": [],
   "source": [
    "import pandas as pd\n",
    "import seaborn as sns\n",
    "import matplotlib.pyplot as plt\n",
    "\n",
    "def normalize_string_column_values(df, column_name):\n",
    "    df[column_name] = df[column_name].str.upper()\n",
    "    df[column_name] = df[column_name].str.strip()\n",
    "    df[column_name] = df[column_name].str.replace(' ', '_')\n",
    "    return df"
   ]
  },
  {
   "cell_type": "code",
   "execution_count": 2,
   "id": "a33e3155",
   "metadata": {},
   "outputs": [],
   "source": [
    "customers = pd.read_csv('data/customers.csv')"
   ]
  },
  {
   "cell_type": "markdown",
   "id": "55b2127c",
   "metadata": {},
   "source": [
    "#### Limpieza y creación de columnas útiles en `customers`"
   ]
  },
  {
   "cell_type": "code",
   "execution_count": null,
   "id": "4dc923a5",
   "metadata": {},
   "outputs": [],
   "source": [
    "customers[\"address\"] = customers[\"address\"].str.upper()\n",
    "customers.fillna({\"address\":\"UNDEFINED\"}, inplace=True)\n",
    "\n",
    "# Los valores de \"address\" se caracterizan por tener en alguna parte\n",
    "# 2 letras mayúsculas seguidas de un espacio y 5 dígitos.\n",
    "# Interpreto las dos letras mayúsculas como el Estado y los 5 dígitos como el código postal.\n",
    "pattern = r'([A-Z]{2})\\s\\d{5}'\n",
    "customers[[\"state\"]] = customers[\"address\"].str.extract(pattern)\n",
    "customers.fillna({\"state\":\"N/A\"}, inplace=True)"
   ]
  },
  {
   "cell_type": "code",
   "execution_count": null,
   "id": "0425a0a2",
   "metadata": {},
   "outputs": [],
   "source": [
    "customers[\"registration_date\"] = pd.to_datetime(customers[\"registration_date\"], format=\"%Y-%m-%dT%H:%M:%S.%f\", errors=\"coerce\")\n",
    "# customers[\"registration_year_month\"] = pd.DatetimeIndex(customers[\"registration_date\"]).strftime('%Y-%m')\n",
    "customers[\"registration_date\"] = pd.DatetimeIndex(customers[\"registration_date\"]).date\n",
    "customers[\"last_login\"] = pd.to_datetime(customers[\"last_login\"], format=\"%Y-%m-%dT%H:%M:%S.%f\", errors=\"coerce\")\n",
    "# customers[\"last_login_year_month\"] = pd.DatetimeIndex(customers[\"last_login\"]).strftime('%Y-%m')\n",
    "customers[\"last_login\"] = pd.DatetimeIndex(customers[\"last_login\"]).date"
   ]
  },
  {
   "cell_type": "code",
   "execution_count": null,
   "id": "ba7f0557",
   "metadata": {},
   "outputs": [],
   "source": [
    "customers.fillna({\n",
    "    \"city\":\"UNDEFINED\", \n",
    "    \"country\":\"UNDEFINED\", \n",
    "    \"email\":\"UNDEFINED\",\n",
    "    \"customer_segment\": \"UNDEFINED\"}, inplace=True)\n",
    "customers = normalize_string_column_values(customers, \"customer_segment\")\n",
    "customers = normalize_string_column_values(customers, \"country\")\n",
    "customers = normalize_string_column_values(customers, \"city\")\n",
    "customers = normalize_string_column_values(customers, \"email\")"
   ]
  }
 ],
 "metadata": {
  "kernelspec": {
   "display_name": "jupyter_env",
   "language": "python",
   "name": "python3"
  },
  "language_info": {
   "codemirror_mode": {
    "name": "ipython",
    "version": 3
   },
   "file_extension": ".py",
   "mimetype": "text/x-python",
   "name": "python",
   "nbconvert_exporter": "python",
   "pygments_lexer": "ipython3",
   "version": "3.11.13"
  }
 },
 "nbformat": 4,
 "nbformat_minor": 5
}
