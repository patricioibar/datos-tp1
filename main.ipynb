{
 "cells": [
  {
   "cell_type": "code",
   "execution_count": 1,
   "id": "6a150863-fbbe-4906-9c90-0356fb58f2fa",
   "metadata": {},
   "outputs": [],
   "source": [
    "import pandas as pd"
   ]
  },
  {
   "cell_type": "code",
   "execution_count": null,
   "id": "538c7863-4ea7-4f05-b74b-3f7999a305a3",
   "metadata": {},
   "outputs": [],
   "source": [
    "categories = pd.read_csv('data/categories.csv')"
   ]
  },
  {
   "cell_type": "code",
   "execution_count": 4,
   "id": "a900f53e",
   "metadata": {},
   "outputs": [
    {
     "data": {
      "text/html": [
       "<div>\n",
       "<style scoped>\n",
       "    .dataframe tbody tr th:only-of-type {\n",
       "        vertical-align: middle;\n",
       "    }\n",
       "\n",
       "    .dataframe tbody tr th {\n",
       "        vertical-align: top;\n",
       "    }\n",
       "\n",
       "    .dataframe thead th {\n",
       "        text-align: right;\n",
       "    }\n",
       "</style>\n",
       "<table border=\"1\" class=\"dataframe\">\n",
       "  <thead>\n",
       "    <tr style=\"text-align: right;\">\n",
       "      <th></th>\n",
       "      <th>Unnamed: 0</th>\n",
       "      <th>category_id</th>\n",
       "      <th>category_name</th>\n",
       "      <th>parent_category</th>\n",
       "      <th>created_at</th>\n",
       "    </tr>\n",
       "  </thead>\n",
       "  <tbody>\n",
       "    <tr>\n",
       "      <th>0</th>\n",
       "      <td>0</td>\n",
       "      <td>1</td>\n",
       "      <td>Smartphones</td>\n",
       "      <td>ELECTRONICS</td>\n",
       "      <td>NaN</td>\n",
       "    </tr>\n",
       "    <tr>\n",
       "      <th>1</th>\n",
       "      <td>1</td>\n",
       "      <td>2</td>\n",
       "      <td>Laptops</td>\n",
       "      <td>Electronics</td>\n",
       "      <td>2024-08-09T15:21:20.057392</td>\n",
       "    </tr>\n",
       "    <tr>\n",
       "      <th>2</th>\n",
       "      <td>2</td>\n",
       "      <td>3</td>\n",
       "      <td>Tablets</td>\n",
       "      <td>NaN</td>\n",
       "      <td>2024-08-25T14:12:07.136934</td>\n",
       "    </tr>\n",
       "    <tr>\n",
       "      <th>3</th>\n",
       "      <td>3</td>\n",
       "      <td>4</td>\n",
       "      <td>Cameras</td>\n",
       "      <td>NaN</td>\n",
       "      <td>2024-07-02T05:37:42.784417</td>\n",
       "    </tr>\n",
       "    <tr>\n",
       "      <th>4</th>\n",
       "      <td>4</td>\n",
       "      <td>5</td>\n",
       "      <td>Televisions</td>\n",
       "      <td>Electronics</td>\n",
       "      <td>2024-09-11T15:18:54.079818</td>\n",
       "    </tr>\n",
       "  </tbody>\n",
       "</table>\n",
       "</div>"
      ],
      "text/plain": [
       "   Unnamed: 0  category_id category_name parent_category  \\\n",
       "0           0            1   Smartphones     ELECTRONICS   \n",
       "1           1            2       Laptops     Electronics   \n",
       "2           2            3       Tablets             NaN   \n",
       "3           3            4       Cameras             NaN   \n",
       "4           4            5   Televisions     Electronics   \n",
       "\n",
       "                    created_at  \n",
       "0                          NaN  \n",
       "1   2024-08-09T15:21:20.057392  \n",
       "2   2024-08-25T14:12:07.136934  \n",
       "3   2024-07-02T05:37:42.784417  \n",
       "4   2024-09-11T15:18:54.079818  "
      ]
     },
     "execution_count": 4,
     "metadata": {},
     "output_type": "execute_result"
    }
   ],
   "source": [
    "categories.head()"
   ]
  },
  {
   "cell_type": "code",
   "execution_count": null,
   "id": "1e343dd9",
   "metadata": {},
   "outputs": [
    {
     "ename": "AttributeError",
     "evalue": "'numpy.int64' object has no attribute 'print'",
     "output_type": "error",
     "traceback": [
      "\u001b[31m---------------------------------------------------------------------------\u001b[39m",
      "\u001b[31mAttributeError\u001b[39m                            Traceback (most recent call last)",
      "\u001b[36mCell\u001b[39m\u001b[36m \u001b[39m\u001b[32mIn[9]\u001b[39m\u001b[32m, line 1\u001b[39m\n\u001b[32m----> \u001b[39m\u001b[32m1\u001b[39m categories[\u001b[33m'\u001b[39m\u001b[33mcategory_name\u001b[39m\u001b[33m'\u001b[39m].count().print()\n",
      "\u001b[31mAttributeError\u001b[39m: 'numpy.int64' object has no attribute 'print'"
     ]
    }
   ],
   "source": [
    "n_cat = categories['category_name'].count()\n",
    "print(f'Cantidad de categorias: {n_cat}')"
   ]
  }
 ],
 "metadata": {
  "kernelspec": {
   "display_name": "base",
   "language": "python",
   "name": "python3"
  },
  "language_info": {
   "codemirror_mode": {
    "name": "ipython",
    "version": 3
   },
   "file_extension": ".py",
   "mimetype": "text/x-python",
   "name": "python",
   "nbconvert_exporter": "python",
   "pygments_lexer": "ipython3",
   "version": "3.13.5"
  }
 },
 "nbformat": 4,
 "nbformat_minor": 5
}
