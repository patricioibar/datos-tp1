{
 "cells": [
  {
   "cell_type": "code",
   "execution_count": null,
   "id": "8ce87e39",
   "metadata": {},
   "outputs": [],
   "source": [
    "import pandas as pd\n",
    "import seaborn as sns\n",
    "import matplotlib.pyplot as plt"
   ]
  },
  {
   "cell_type": "code",
   "execution_count": null,
   "id": "bcddc9b6",
   "metadata": {},
   "outputs": [],
   "source": [
    "orders = pd.read_csv('data/orders.csv')\n",
    "customers = pd.read_csv('data/customers.csv')\n",
    "products = pd.read_csv('data/products.csv')\n",
    "categories = pd.read_csv('data/categories.csv')\n",
    "order_items = pd.read_csv('data/order_items.csv')\n",
    "reviews = pd.read_csv('data/reviews.csv')\n",
    "inventory_logs = pd.read_csv('data/inventory_logs.csv')"
   ]
  },
  {
   "cell_type": "code",
   "execution_count": null,
   "id": "6a92c250",
   "metadata": {},
   "outputs": [],
   "source": [
    "print(\"\\norders\")\n",
    "orders.info()\n",
    "print(\"\\ncustomers\")\n",
    "customers.info()\n",
    "print(\"\\ncategories\")\n",
    "categories.info()\n",
    "print(\"\\nproducts\")\n",
    "products.info()\n",
    "print(\"\\norder_items\")\n",
    "order_items.info()\n",
    "print(\"\\ninventory_logs\")\n",
    "inventory_logs.info()\n",
    "print(\"\\nreviews\")\n",
    "reviews.info()"
   ]
  },
  {
   "cell_type": "code",
   "execution_count": null,
   "id": "f36dec48",
   "metadata": {},
   "outputs": [],
   "source": [
    "def normalize_string_column_values(df, column_name):\n",
    "    df[column_name] = df[column_name].str.upper()\n",
    "    df[column_name] = df[column_name].str.strip()\n",
    "    df[column_name] = df[column_name].str.replace(' ', '_')\n",
    "    return df"
   ]
  },
  {
   "cell_type": "markdown",
   "id": "d668b24e",
   "metadata": {},
   "source": [
    "### 1. ¿Cuál es el Estado que más descuentos tiene en total? ¿y en promedio?"
   ]
  },
  {
   "cell_type": "code",
   "execution_count": null,
   "id": "5d81f28e",
   "metadata": {},
   "outputs": [],
   "source": [
    "orders[\"billing_address\"] = orders[\"billing_address\"].str.upper()\n",
    "orders.fillna({\"billing_address\":\"UNDEFINED\"}, inplace=True)\n",
    "\n",
    "# Los valores de \"billing_address\" se caracterizan por tener en alguna parte\n",
    "# 2 letras mayúsculas seguidas de un espacio y 5 dígitos.\n",
    "# Interpreto las dos letras mayúsculas como el Estado y los 5 dígitos como el código postal.\n",
    "pattern = r'([A-Z]{2})\\s(\\d{5})'\n",
    "orders[[\"state\", \"zip_code\"]] = orders[\"billing_address\"].str.extract(pattern)"
   ]
  },
  {
   "cell_type": "code",
   "execution_count": null,
   "id": "4e005147",
   "metadata": {},
   "outputs": [],
   "source": [
    "# Chequeo que la extracción haya salido bien\n",
    "print(\"Filas totales en dataset orders:\", len(orders))\n",
    "print(\"Filas con estado no nulos:\", orders[\"state\"].notna().sum())\n",
    "print(\"Filas con estado nulo:\", orders[\"state\"].isna().sum())\n",
    "\n",
    "null_state_and_null_billing_addr = orders[\"state\"].isna() & orders[\"billing_address\"].str.contains(\"UNDEFINED\")\n",
    "\n",
    "print(\"¿Todas las filas que tienen estado nulo, tienen dirección de facturación indefinida?\", \n",
    "        \"Si\" if null_state_and_null_billing_addr.sum() == orders[\"state\"].isna().sum() else \"No\")"
   ]
  },
  {
   "cell_type": "code",
   "execution_count": null,
   "id": "239afaae",
   "metadata": {},
   "outputs": [],
   "source": [
    "# Suposición: Si el valor de la columna \"discount_amount\" es nulo, es porque no hay descuento.\n",
    "orders.fillna({\"discount_amount\":0.0}, inplace=True)"
   ]
  },
  {
   "cell_type": "code",
   "execution_count": null,
   "id": "03aad5bb",
   "metadata": {},
   "outputs": [],
   "source": [
    "import json\n",
    "with open(\"state_names.json\", \"r\") as f:\n",
    "    state_names = json.load(f)\n",
    "\n",
    "orders[\"state_name\"] = orders[\"state\"].map(state_names)"
   ]
  },
  {
   "cell_type": "code",
   "execution_count": null,
   "id": "aaef80b3",
   "metadata": {},
   "outputs": [],
   "source": [
    "# Filtrar estados militares y otros\n",
    "# filtro estos valores por interpretación de enunciado, \n",
    "# supuse que se refería a los 50 estados de EEUU\n",
    "not_states_filter = ~(\n",
    "    orders[\"state\"].str.contains(\"AA\")   # Military Americas\n",
    "    | orders[\"state\"].str.contains(\"AE\") # Military Europe\n",
    "    | orders[\"state\"].str.contains(\"AP\") # Military Pacific\n",
    "    | orders[\"state\"].str.contains(\"FM\") # Federated States of Micronesia\n",
    "    | orders[\"state\"].str.contains(\"MH\") # Marshall Islands\n",
    "    | orders[\"state\"].str.contains(\"MP\") # Northern Mariana Islands\n",
    "    | orders[\"state\"].str.contains(\"PW\") # Palau\n",
    "    | orders[\"state\"].str.contains(\"GU\") # Guam\n",
    "    | orders[\"state\"].str.contains(\"VI\") # U.S. Virgin Islands\n",
    "    | orders[\"state\"].str.contains(\"AS\") # American Samoa\n",
    "    | orders[\"state\"].isna()             # Nulos\n",
    ")\n",
    "orders_with_discount = orders[orders[\"discount_amount\"] > 0].loc[not_states_filter]"
   ]
  },
  {
   "cell_type": "code",
   "execution_count": null,
   "id": "33e6716f",
   "metadata": {},
   "outputs": [],
   "source": [
    "quantity_of_orders_with_discounts_by_state = orders_with_discount.groupby(\"state\")[\"order_id\"].count().reset_index()\n",
    "quantity_of_orders_with_discounts_by_state.rename(columns={\"order_id\": \"no_of_discounts\"}, inplace=True)\n",
    "quantity_of_orders_with_discounts_by_state[\"state_name\"] = quantity_of_orders_with_discounts_by_state[\"state\"].map(state_names)\n",
    "\n",
    "print(\"\\nTop 5 estados con más órdenes con descuentos:\")\n",
    "quantity_of_orders_with_discounts_by_state.nlargest(5, \"no_of_discounts\")"
   ]
  },
  {
   "cell_type": "code",
   "execution_count": null,
   "id": "448468ac",
   "metadata": {},
   "outputs": [],
   "source": [
    "states_avg_discount = orders_with_discount.groupby(\"state\")[\"discount_amount\"].mean().reset_index()\n",
    "states_avg_discount.rename(columns={\"discount_amount\": \"avg_discount\"}, inplace=True)\n",
    "states_avg_discount[\"state_name\"] = states_avg_discount[\"state\"].map(state_names)\n",
    "\n",
    "avg_discount = orders_with_discount[\"discount_amount\"].mean()\n",
    "\n",
    "print(\"\\nDescuento promedio de las órdenes en todos los estados:\", avg_discount)\n",
    "\n",
    "print(\"\\nTop 5 estados con mayor descuento promedio en las órdenes:\")\n",
    "states_avg_discount.nlargest(5, \"avg_discount\")"
   ]
  },
  {
   "cell_type": "markdown",
   "id": "831cdfc0",
   "metadata": {},
   "source": [
    "### 2. ¿Cuáles son los 5 códigos postales más comunes para las órdenes con estado 'Refunded'? \n",
    "###    ¿Y cuál es el nombre más frecuente entre los clientes de esas direcciones?"
   ]
  },
  {
   "cell_type": "code",
   "execution_count": null,
   "id": "20020f0a",
   "metadata": {},
   "outputs": [],
   "source": [
    "orders.fillna({\"status\":\"UNDEFINED\"}, inplace=True)\n",
    "orders = normalize_string_column_values(orders, \"status\")\n",
    "orders[\"status\"].value_counts()"
   ]
  },
  {
   "cell_type": "code",
   "execution_count": null,
   "id": "d4d4fd4e",
   "metadata": {},
   "outputs": [],
   "source": [
    "refunded_orders = orders[orders[\"status\"].str.contains(\"REFUNDED\")]\n",
    "\n",
    "amount_refunded_orders_by_zipcode = refunded_orders[\"zip_code\"].value_counts().reset_index()\n",
    "top_refunded_zipcodes = amount_refunded_orders_by_zipcode.nlargest(5, \"count\")\n",
    "\n",
    "print(\"\\nTop 5 códigos postales más comunes para órdenes con estado 'Refunded':\")\n",
    "print(top_refunded_zipcodes)\n",
    "\n",
    "print(\"\\nCódigos postales con 5 órdenes 'Refunded':\")\n",
    "print(amount_refunded_orders_by_zipcode.loc[amount_refunded_orders_by_zipcode[\"count\"] == 5])\n"
   ]
  },
  {
   "cell_type": "code",
   "execution_count": null,
   "id": "60632867",
   "metadata": {},
   "outputs": [],
   "source": [
    "# Acá hay dos formas de hacer \"lo mismo\", pruebo utilizando merge y usando isin\n",
    "refunded_clients_ids = top_refunded_zipcodes.merge(orders, left_on=\"zip_code\", right_on=\"zip_code\")[\"customer_id\"].unique()\n",
    "refunded_clients_names = customers[customers[\"customer_id\"].isin(refunded_clients_ids)][[\"customer_id\", \"first_name\"]]\n",
    "\n",
    "most_common_names = refunded_clients_names[\"first_name\"].value_counts().reset_index().nlargest(5, \"count\")\n",
    "\n",
    "print(\"\\nTop 5 nombres más comunes entre los clientes que realizaron órdenes 'Refunded' en los códigos postales con más órdenes 'Refunded':\")\n",
    "print(most_common_names)"
   ]
  },
  {
   "cell_type": "markdown",
   "id": "70a9fb10",
   "metadata": {},
   "source": [
    "## 3. Para cada tipo de pago y segmento de cliente, \n",
    "## devolver la suma y el promedio expresado como porcentaje \n",
    "## de clientes activos y de consentimiento de marketing"
   ]
  },
  {
   "cell_type": "code",
   "execution_count": null,
   "id": "a3a93925",
   "metadata": {},
   "outputs": [],
   "source": [
    "# Limpio los datos y homogeinizo los datos\n",
    "customers = normalize_string_column_values(customers, \"customer_segment\")\n",
    "orders = normalize_string_column_values(orders, \"payment_method\")"
   ]
  },
  {
   "cell_type": "code",
   "execution_count": null,
   "id": "6bbb8c0a",
   "metadata": {},
   "outputs": [],
   "source": [
    "# Mergeo los dos dataframes porque necesito columnas de ambos:\n",
    "# de customers: is_active, marketing_consent, customer_segment\n",
    "# de orders:    payment_method\n",
    "orders_customers = orders.merge(customers, on=\"customer_id\").reset_index()\n",
    "\n",
    "# Paso las dos columnas booleanas a enteros para poder calcular el porcentaje \n",
    "# a través del promedio\n",
    "orders_customers[\"is_active\"] = orders_customers[\"is_active\"].astype(int)\n",
    "orders_customers[\"marketing_consent\"] = orders_customers[\"marketing_consent\"].astype(int)\n",
    "\n",
    "# Me quedo con filas únicas por combinación de método de pago, segmento de cliente y customer_id\n",
    "# para no contar dos veces a un mismo cliente que hizo varias órdenes con el mismo método de pago\n",
    "orders_customers_unique = orders_customers.drop_duplicates(subset=[\"payment_method\", \"customer_segment\", \"customer_id\"])\n",
    "\n",
    "orders_customers_grouped = orders_customers_unique.groupby([\"payment_method\", \"customer_segment\"]).agg({\n",
    "    \"customer_id\": \"count\",\n",
    "    \"is_active\": [\"sum\", \"mean\"],\n",
    "    \"marketing_consent\": [\"sum\", \"mean\"]\n",
    "})\n",
    "orders_customers_grouped[('is_active', 'mean')] = orders_customers_grouped[('is_active', 'mean')] * 100\n",
    "orders_customers_grouped[('marketing_consent', 'mean')] = orders_customers_grouped[('marketing_consent', 'mean')] * 100\n",
    "orders_customers_grouped"
   ]
  },
  {
   "cell_type": "code",
   "execution_count": null,
   "id": "0870bd4d",
   "metadata": {},
   "outputs": [],
   "source": [
    "orders_customers_grouped.columns = [\n",
    "    'Total de usuarios',\n",
    "    'Total de usuarios activos',\n",
    "    'Porcentaje de usuarios activos',\n",
    "    'Total de consentimientos de marketing',\n",
    "    'Porcentaje de consentimientos de marketing'\n",
    "]\n",
    "orders_customers_grouped.index.set_names(['Método de Pago', 'Segmento de Cliente'], inplace=True)\n",
    "orders_customers_grouped"
   ]
  },
  {
   "cell_type": "code",
   "execution_count": null,
   "id": "45415c3c",
   "metadata": {},
   "outputs": [],
   "source": [
    "client_by_payment_segment = orders_customers_grouped['Total de usuarios activos'].unstack()\n",
    "plt.figure(figsize=(12, 6))\n",
    "plt.title('Cantidad de usuarios activos por método de pago y segmento de cliente')\n",
    "sns.heatmap(client_by_payment_segment, annot=True, fmt=\".0f\", cmap=\"YlGnBu\", linecolor=\"white\", linewidths=0.6)"
   ]
  },
  {
   "cell_type": "markdown",
   "id": "e9df7ec5",
   "metadata": {},
   "source": [
    "### 4. Para los productos que contienen en su descripción la palabra \"stuff\",\n",
    "### calcular el peso total de su inventario agrupado por marca,\n",
    "### mostrar sólo la marca y el peso total de las 5 más pesadas"
   ]
  },
  {
   "cell_type": "code",
   "execution_count": null,
   "id": "a035eb4b",
   "metadata": {},
   "outputs": [],
   "source": [
    "products[\"description\"] = products[\"description\"].fillna(\"\")\n",
    "stuff_products = products.loc[products[\"description\"].str.contains(\"STUFF\", case=False)][[\"product_id\", \"brand\", \"weight_kg\"]]"
   ]
  },
  {
   "cell_type": "markdown",
   "id": "8cb9eeab",
   "metadata": {},
   "source": [
    "### Reason y Movement type"
   ]
  },
  {
   "cell_type": "code",
   "execution_count": null,
   "id": "23e1d18f",
   "metadata": {},
   "outputs": [],
   "source": [
    "inventory_logs = normalize_string_column_values(inventory_logs, \"reason\")\n",
    "inventory_logs = normalize_string_column_values(inventory_logs, \"movement_type\")"
   ]
  },
  {
   "cell_type": "code",
   "execution_count": null,
   "id": "852837b8",
   "metadata": {},
   "outputs": [],
   "source": [
    "inventory_logs.groupby([\"movement_type\", \"reason\"]).size().unstack()"
   ]
  },
  {
   "cell_type": "code",
   "execution_count": null,
   "id": "230d98be",
   "metadata": {},
   "outputs": [],
   "source": [
    "categories = normalize_string_column_values(categories, \"category_name\")\n",
    "categories = normalize_string_column_values(categories, \"parent_category\")\n",
    "category_names = categories[[\"category_id\", \"category_name\", \"parent_category\"]]\n",
    "category_names = category_names.fillna(\"UNDEFINED\")\n",
    "products = products.merge(category_names, on=\"category_id\", how=\"left\")"
   ]
  },
  {
   "cell_type": "code",
   "execution_count": null,
   "id": "cba5938c",
   "metadata": {},
   "outputs": [],
   "source": [
    "products.groupby([\"parent_category\", \"category_name\"]).size()"
   ]
  },
  {
   "cell_type": "code",
   "execution_count": null,
   "id": "68915d12",
   "metadata": {},
   "outputs": [],
   "source": [
    "orders[\"order_date\"] = pd.to_datetime(orders[\"order_date\"], format=\"%Y-%m-%dT%H:%M:%S.%f\", errors=\"coerce\").dt.date\n",
    "orders[\"year\"] = pd.DatetimeIndex(orders[\"order_date\"]).year\n",
    "orders[\"month\"] = pd.DatetimeIndex(orders[\"order_date\"]).month\n",
    "orders[\"year_month\"] = pd.to_datetime(orders[[\"year\", \"month\"]].assign(day=1)).dt.strftime('%Y-%m')"
   ]
  },
  {
   "cell_type": "code",
   "execution_count": null,
   "id": "982d70e6",
   "metadata": {},
   "outputs": [],
   "source": [
    "plt.figure(figsize=(10, 5))\n",
    "plt.title(\"Cantidad de órdenes por mes y año\")\n",
    "sns.lineplot(\n",
    "    data=orders[\"order_date\"].value_counts().reset_index(), \n",
    "    x=\"order_date\", y=\"count\", color=\"blue\", label=\"Total\")\n",
    "sns.lineplot(\n",
    "    data=orders.loc[orders[\"discount_amount\"] > 0][\"order_date\"].value_counts().reset_index(), \n",
    "    x=\"order_date\", y=\"count\", color=\"green\", label=\"Con descuento\")\n",
    "sns.lineplot(\n",
    "    data=orders.loc[orders[\"discount_amount\"] == 0][\"order_date\"].value_counts().reset_index(), \n",
    "    x=\"order_date\", y=\"count\", color=\"orange\", label=\"Sin descuento\")\n",
    "plt.xlabel(\"Fecha de la orden\")\n",
    "plt.ylabel(\"Cantidad de órdenes\")"
   ]
  },
  {
   "cell_type": "code",
   "execution_count": null,
   "id": "86bf80fb",
   "metadata": {},
   "outputs": [],
   "source": [
    "orders_per_state_year_month = orders.groupby([\"state\",\"year_month\"]).size().reset_index().rename(columns={0: \"count\"})\n",
    "plt.figure(figsize=(15, 8))\n",
    "sns.barplot(data=orders_per_state_year_month, x=\"year_month\", y=\"count\", hue=\"state\")"
   ]
  }
 ],
 "metadata": {
  "kernelspec": {
   "display_name": "jupyter_env",
   "language": "python",
   "name": "python3"
  },
  "language_info": {
   "codemirror_mode": {
    "name": "ipython",
    "version": 3
   },
   "file_extension": ".py",
   "mimetype": "text/x-python",
   "name": "python",
   "nbconvert_exporter": "python",
   "pygments_lexer": "ipython3",
   "version": "3.11.13"
  }
 },
 "nbformat": 4,
 "nbformat_minor": 5
}
